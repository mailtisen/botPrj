{
 "cells": [
  {
   "cell_type": "code",
   "execution_count": 17,
   "metadata": {},
   "outputs": [],
   "source": [
    "from numpy import loadtxt\n",
    "from keras.models import Sequential\n",
    "from keras.layers import Dense\n",
    "import pandas as pd\n",
    "import numpy as np\n",
    "bot_df = pd.read_csv(\"FinalizedFullSet.csv\")\n",
    "bot_df.head()\n",
    "bot_feature = bot_df.copy()\n",
    "bot_labels = bot_feature.pop('Lbls')\n",
    "bot_feature = np.array(bot_feature)\n",
    "bot_feature\n",
    "X = bot_feature[:,0:9]\n",
    "y = bot_feature[:,9]\n",
    "model = Sequential()\n",
    "model.add(Dense(12, input_dim=11, activation='relu'))\n",
    "model.add(Dense(8, activation='relu'))\n",
    "model.add(Dense(1, activation='sigmoid'))\n",
    "model.compile(loss='binary_crossentropy', optimizer='adam', metrics=['accuracy'])\n"
   ]
  },
  {
   "cell_type": "code",
   "execution_count": 21,
   "metadata": {},
   "outputs": [],
   "source": [
    "bot_df = pd.read_csv(\"PLDeepLearnCTU13_10K - ClosenessCentrality.csv\")"
   ]
  },
  {
   "cell_type": "code",
   "execution_count": 22,
   "metadata": {},
   "outputs": [
    {
     "data": {
      "text/html": [
       "<div>\n",
       "<style scoped>\n",
       "    .dataframe tbody tr th:only-of-type {\n",
       "        vertical-align: middle;\n",
       "    }\n",
       "\n",
       "    .dataframe tbody tr th {\n",
       "        vertical-align: top;\n",
       "    }\n",
       "\n",
       "    .dataframe thead th {\n",
       "        text-align: right;\n",
       "    }\n",
       "</style>\n",
       "<table border=\"1\" class=\"dataframe\">\n",
       "  <thead>\n",
       "    <tr style=\"text-align: right;\">\n",
       "      <th></th>\n",
       "      <th>Frequency</th>\n",
       "      <th>SRCC</th>\n",
       "      <th>SrcCen</th>\n",
       "      <th>Src Port</th>\n",
       "      <th>DSTCen</th>\n",
       "      <th>NetflowAggr</th>\n",
       "      <th>Dst Port</th>\n",
       "      <th>ProtocolB</th>\n",
       "      <th>HSTYP</th>\n",
       "      <th>MARPB</th>\n",
       "      <th>MTCPD</th>\n",
       "      <th>MWPD</th>\n",
       "      <th>Lbls</th>\n",
       "    </tr>\n",
       "  </thead>\n",
       "  <tbody>\n",
       "    <tr>\n",
       "      <th>0</th>\n",
       "      <td>27</td>\n",
       "      <td>1</td>\n",
       "      <td>0</td>\n",
       "      <td>26461.0</td>\n",
       "      <td>1</td>\n",
       "      <td>0.000003</td>\n",
       "      <td>32234.0</td>\n",
       "      <td>2</td>\n",
       "      <td>NaN</td>\n",
       "      <td>0</td>\n",
       "      <td>0</td>\n",
       "      <td>0</td>\n",
       "      <td>BENIGN</td>\n",
       "    </tr>\n",
       "    <tr>\n",
       "      <th>1</th>\n",
       "      <td>7356</td>\n",
       "      <td>15</td>\n",
       "      <td>0</td>\n",
       "      <td>80.0</td>\n",
       "      <td>1</td>\n",
       "      <td>0.500040</td>\n",
       "      <td>1067.0</td>\n",
       "      <td>1</td>\n",
       "      <td>NaN</td>\n",
       "      <td>0</td>\n",
       "      <td>1</td>\n",
       "      <td>0</td>\n",
       "      <td>BENIGN</td>\n",
       "    </tr>\n",
       "    <tr>\n",
       "      <th>2</th>\n",
       "      <td>7356</td>\n",
       "      <td>15</td>\n",
       "      <td>0</td>\n",
       "      <td>80.0</td>\n",
       "      <td>1</td>\n",
       "      <td>0.000040</td>\n",
       "      <td>1067.0</td>\n",
       "      <td>1</td>\n",
       "      <td>NaN</td>\n",
       "      <td>0</td>\n",
       "      <td>0</td>\n",
       "      <td>0</td>\n",
       "      <td>BENIGN</td>\n",
       "    </tr>\n",
       "    <tr>\n",
       "      <th>3</th>\n",
       "      <td>7356</td>\n",
       "      <td>15</td>\n",
       "      <td>0</td>\n",
       "      <td>80.0</td>\n",
       "      <td>1</td>\n",
       "      <td>0.000040</td>\n",
       "      <td>1067.0</td>\n",
       "      <td>3</td>\n",
       "      <td>NaN</td>\n",
       "      <td>0</td>\n",
       "      <td>0</td>\n",
       "      <td>0</td>\n",
       "      <td>BENIGN</td>\n",
       "    </tr>\n",
       "    <tr>\n",
       "      <th>4</th>\n",
       "      <td>7356</td>\n",
       "      <td>15</td>\n",
       "      <td>0</td>\n",
       "      <td>80.0</td>\n",
       "      <td>1</td>\n",
       "      <td>0.500040</td>\n",
       "      <td>1067.0</td>\n",
       "      <td>1</td>\n",
       "      <td>NaN</td>\n",
       "      <td>0</td>\n",
       "      <td>1</td>\n",
       "      <td>0</td>\n",
       "      <td>BENIGN</td>\n",
       "    </tr>\n",
       "  </tbody>\n",
       "</table>\n",
       "</div>"
      ],
      "text/plain": [
       "   Frequency  SRCC  SrcCen  Src Port  DSTCen  NetflowAggr  Dst Port  \\\n",
       "0         27     1       0   26461.0       1     0.000003   32234.0   \n",
       "1       7356    15       0      80.0       1     0.500040    1067.0   \n",
       "2       7356    15       0      80.0       1     0.000040    1067.0   \n",
       "3       7356    15       0      80.0       1     0.000040    1067.0   \n",
       "4       7356    15       0      80.0       1     0.500040    1067.0   \n",
       "\n",
       "   ProtocolB  HSTYP  MARPB  MTCPD  MWPD    Lbls  \n",
       "0          2    NaN      0      0     0  BENIGN  \n",
       "1          1    NaN      0      1     0  BENIGN  \n",
       "2          1    NaN      0      0     0  BENIGN  \n",
       "3          3    NaN      0      0     0  BENIGN  \n",
       "4          1    NaN      0      1     0  BENIGN  "
      ]
     },
     "execution_count": 22,
     "metadata": {},
     "output_type": "execute_result"
    }
   ],
   "source": [
    "bot_df.head()"
   ]
  },
  {
   "cell_type": "code",
   "execution_count": 25,
   "metadata": {},
   "outputs": [],
   "source": [
    "bot_feature = bot_df.copy()\n"
   ]
  },
  {
   "cell_type": "code",
   "execution_count": 26,
   "metadata": {},
   "outputs": [],
   "source": [
    "bot_labels = bot_feature.pop('Lbls')"
   ]
  },
  {
   "cell_type": "code",
   "execution_count": 7,
   "metadata": {},
   "outputs": [
    {
     "ename": "NameError",
     "evalue": "name 'np' is not defined",
     "output_type": "error",
     "traceback": [
      "\u001b[1;31m---------------------------------------------------------------------------\u001b[0m",
      "\u001b[1;31mNameError\u001b[0m                                 Traceback (most recent call last)",
      "\u001b[1;32m<ipython-input-7-9400daee1887>\u001b[0m in \u001b[0;36m<module>\u001b[1;34m\u001b[0m\n\u001b[1;32m----> 1\u001b[1;33m \u001b[0mbot_feature\u001b[0m \u001b[1;33m=\u001b[0m \u001b[0mnp\u001b[0m\u001b[1;33m.\u001b[0m\u001b[0marray\u001b[0m\u001b[1;33m(\u001b[0m\u001b[0mbot_feature\u001b[0m\u001b[1;33m)\u001b[0m\u001b[1;33m\u001b[0m\u001b[1;33m\u001b[0m\u001b[0m\n\u001b[0m\u001b[0;32m      2\u001b[0m \u001b[0mbot_feature\u001b[0m\u001b[1;33m\u001b[0m\u001b[1;33m\u001b[0m\u001b[0m\n",
      "\u001b[1;31mNameError\u001b[0m: name 'np' is not defined"
     ]
    }
   ],
   "source": [
    "bot_feature = np.array(bot_feature)\n",
    "bot_feature"
   ]
  },
  {
   "cell_type": "code",
   "execution_count": 27,
   "metadata": {},
   "outputs": [],
   "source": [
    "import numpy as np"
   ]
  },
  {
   "cell_type": "code",
   "execution_count": 28,
   "metadata": {},
   "outputs": [],
   "source": [
    "bot_feature = np.array(bot_feature)"
   ]
  },
  {
   "cell_type": "code",
   "execution_count": 29,
   "metadata": {},
   "outputs": [
    {
     "data": {
      "text/plain": [
       "array([[2.700e+01, 1.000e+00, 0.000e+00, ..., 0.000e+00, 0.000e+00,\n",
       "        0.000e+00],\n",
       "       [7.356e+03, 1.500e+01, 0.000e+00, ..., 0.000e+00, 1.000e+00,\n",
       "        0.000e+00],\n",
       "       [7.356e+03, 1.500e+01, 0.000e+00, ..., 0.000e+00, 0.000e+00,\n",
       "        0.000e+00],\n",
       "       ...,\n",
       "       [2.700e+01, 1.380e+02, 0.000e+00, ..., 0.000e+00, 0.000e+00,\n",
       "        0.000e+00],\n",
       "       [2.700e+01, 1.270e+02, 0.000e+00, ..., 2.000e+00, 0.000e+00,\n",
       "        1.000e+00],\n",
       "       [2.700e+01, 1.270e+02, 0.000e+00, ..., 1.000e+00, 0.000e+00,\n",
       "        2.000e+00]])"
      ]
     },
     "execution_count": 29,
     "metadata": {},
     "output_type": "execute_result"
    }
   ],
   "source": [
    "bot_feature"
   ]
  },
  {
   "cell_type": "code",
   "execution_count": 32,
   "metadata": {},
   "outputs": [],
   "source": [
    "X = bot_feature[:,0:11]\n",
    "y = bot_feature[:,11]"
   ]
  },
  {
   "cell_type": "code",
   "execution_count": 36,
   "metadata": {},
   "outputs": [],
   "source": [
    "model = Sequential()\n",
    "model.add(Dense(12, input_dim=11, activation='relu'))\n",
    "model.add(Dense(8, activation='relu'))\n",
    "model.add(Dense(1, activation='sigmoid'))"
   ]
  },
  {
   "cell_type": "code",
   "execution_count": 37,
   "metadata": {},
   "outputs": [],
   "source": [
    "# compile the keras model\n",
    "model.compile(loss='binary_crossentropy', optimizer='adam', metrics=['accuracy'])\n"
   ]
  },
  {
   "cell_type": "code",
   "execution_count": 16,
   "metadata": {},
   "outputs": [
    {
     "name": "stdout",
     "output_type": "stream",
     "text": [
      "Epoch 1/150\n"
     ]
    },
    {
     "ename": "ValueError",
     "evalue": "could not convert string to float: '00-01-1900 00:17:10.500'",
     "output_type": "error",
     "traceback": [
      "\u001b[1;31m---------------------------------------------------------------------------\u001b[0m",
      "\u001b[1;31mValueError\u001b[0m                                Traceback (most recent call last)",
      "\u001b[1;32m<ipython-input-16-39d59395a0a6>\u001b[0m in \u001b[0;36m<module>\u001b[1;34m\u001b[0m\n\u001b[1;32m----> 1\u001b[1;33m \u001b[0mmodel\u001b[0m\u001b[1;33m.\u001b[0m\u001b[0mfit\u001b[0m\u001b[1;33m(\u001b[0m\u001b[0mX\u001b[0m\u001b[1;33m,\u001b[0m \u001b[0my\u001b[0m\u001b[1;33m,\u001b[0m \u001b[0mepochs\u001b[0m\u001b[1;33m=\u001b[0m\u001b[1;36m150\u001b[0m\u001b[1;33m,\u001b[0m \u001b[0mbatch_size\u001b[0m\u001b[1;33m=\u001b[0m\u001b[1;36m10\u001b[0m\u001b[1;33m)\u001b[0m\u001b[1;33m\u001b[0m\u001b[1;33m\u001b[0m\u001b[0m\n\u001b[0m",
      "\u001b[1;32m~\\.conda\\envs\\tesnsorflow\\lib\\site-packages\\keras\\engine\\training.py\u001b[0m in \u001b[0;36mfit\u001b[1;34m(self, x, y, batch_size, epochs, verbose, callbacks, validation_split, validation_data, shuffle, class_weight, sample_weight, initial_epoch, steps_per_epoch, validation_steps, validation_freq, max_queue_size, workers, use_multiprocessing, **kwargs)\u001b[0m\n\u001b[0;32m   1237\u001b[0m                                         \u001b[0msteps_per_epoch\u001b[0m\u001b[1;33m=\u001b[0m\u001b[0msteps_per_epoch\u001b[0m\u001b[1;33m,\u001b[0m\u001b[1;33m\u001b[0m\u001b[1;33m\u001b[0m\u001b[0m\n\u001b[0;32m   1238\u001b[0m                                         \u001b[0mvalidation_steps\u001b[0m\u001b[1;33m=\u001b[0m\u001b[0mvalidation_steps\u001b[0m\u001b[1;33m,\u001b[0m\u001b[1;33m\u001b[0m\u001b[1;33m\u001b[0m\u001b[0m\n\u001b[1;32m-> 1239\u001b[1;33m                                         validation_freq=validation_freq)\n\u001b[0m\u001b[0;32m   1240\u001b[0m \u001b[1;33m\u001b[0m\u001b[0m\n\u001b[0;32m   1241\u001b[0m     def evaluate(self,\n",
      "\u001b[1;32m~\\.conda\\envs\\tesnsorflow\\lib\\site-packages\\keras\\engine\\training_arrays.py\u001b[0m in \u001b[0;36mfit_loop\u001b[1;34m(model, fit_function, fit_inputs, out_labels, batch_size, epochs, verbose, callbacks, val_function, val_inputs, shuffle, initial_epoch, steps_per_epoch, validation_steps, validation_freq)\u001b[0m\n\u001b[0;32m    194\u001b[0m                     \u001b[0mins_batch\u001b[0m\u001b[1;33m[\u001b[0m\u001b[0mi\u001b[0m\u001b[1;33m]\u001b[0m \u001b[1;33m=\u001b[0m \u001b[0mins_batch\u001b[0m\u001b[1;33m[\u001b[0m\u001b[0mi\u001b[0m\u001b[1;33m]\u001b[0m\u001b[1;33m.\u001b[0m\u001b[0mtoarray\u001b[0m\u001b[1;33m(\u001b[0m\u001b[1;33m)\u001b[0m\u001b[1;33m\u001b[0m\u001b[1;33m\u001b[0m\u001b[0m\n\u001b[0;32m    195\u001b[0m \u001b[1;33m\u001b[0m\u001b[0m\n\u001b[1;32m--> 196\u001b[1;33m                 \u001b[0mouts\u001b[0m \u001b[1;33m=\u001b[0m \u001b[0mfit_function\u001b[0m\u001b[1;33m(\u001b[0m\u001b[0mins_batch\u001b[0m\u001b[1;33m)\u001b[0m\u001b[1;33m\u001b[0m\u001b[1;33m\u001b[0m\u001b[0m\n\u001b[0m\u001b[0;32m    197\u001b[0m                 \u001b[0mouts\u001b[0m \u001b[1;33m=\u001b[0m \u001b[0mto_list\u001b[0m\u001b[1;33m(\u001b[0m\u001b[0mouts\u001b[0m\u001b[1;33m)\u001b[0m\u001b[1;33m\u001b[0m\u001b[1;33m\u001b[0m\u001b[0m\n\u001b[0;32m    198\u001b[0m                 \u001b[1;32mfor\u001b[0m \u001b[0ml\u001b[0m\u001b[1;33m,\u001b[0m \u001b[0mo\u001b[0m \u001b[1;32min\u001b[0m \u001b[0mzip\u001b[0m\u001b[1;33m(\u001b[0m\u001b[0mout_labels\u001b[0m\u001b[1;33m,\u001b[0m \u001b[0mouts\u001b[0m\u001b[1;33m)\u001b[0m\u001b[1;33m:\u001b[0m\u001b[1;33m\u001b[0m\u001b[1;33m\u001b[0m\u001b[0m\n",
      "\u001b[1;32m~\\.conda\\envs\\tesnsorflow\\lib\\site-packages\\tensorflow_core\\python\\keras\\backend.py\u001b[0m in \u001b[0;36m__call__\u001b[1;34m(self, inputs)\u001b[0m\n\u001b[0;32m   3719\u001b[0m               'You must feed a value for placeholder %s' % (tensor,))\n\u001b[0;32m   3720\u001b[0m       \u001b[1;32mif\u001b[0m \u001b[1;32mnot\u001b[0m \u001b[0misinstance\u001b[0m\u001b[1;33m(\u001b[0m\u001b[0mvalue\u001b[0m\u001b[1;33m,\u001b[0m \u001b[0mops\u001b[0m\u001b[1;33m.\u001b[0m\u001b[0mTensor\u001b[0m\u001b[1;33m)\u001b[0m\u001b[1;33m:\u001b[0m\u001b[1;33m\u001b[0m\u001b[1;33m\u001b[0m\u001b[0m\n\u001b[1;32m-> 3721\u001b[1;33m         \u001b[0mvalue\u001b[0m \u001b[1;33m=\u001b[0m \u001b[0mops\u001b[0m\u001b[1;33m.\u001b[0m\u001b[0mconvert_to_tensor\u001b[0m\u001b[1;33m(\u001b[0m\u001b[0mvalue\u001b[0m\u001b[1;33m,\u001b[0m \u001b[0mdtype\u001b[0m\u001b[1;33m=\u001b[0m\u001b[0mtensor\u001b[0m\u001b[1;33m.\u001b[0m\u001b[0mdtype\u001b[0m\u001b[1;33m)\u001b[0m\u001b[1;33m\u001b[0m\u001b[1;33m\u001b[0m\u001b[0m\n\u001b[0m\u001b[0;32m   3722\u001b[0m       \u001b[1;32mif\u001b[0m \u001b[0mvalue\u001b[0m\u001b[1;33m.\u001b[0m\u001b[0mdtype\u001b[0m \u001b[1;33m!=\u001b[0m \u001b[0mtensor\u001b[0m\u001b[1;33m.\u001b[0m\u001b[0mdtype\u001b[0m\u001b[1;33m:\u001b[0m\u001b[1;33m\u001b[0m\u001b[1;33m\u001b[0m\u001b[0m\n\u001b[0;32m   3723\u001b[0m         \u001b[1;31m# Temporary workaround due to `convert_to_tensor` not casting floats.\u001b[0m\u001b[1;33m\u001b[0m\u001b[1;33m\u001b[0m\u001b[1;33m\u001b[0m\u001b[0m\n",
      "\u001b[1;32m~\\.conda\\envs\\tesnsorflow\\lib\\site-packages\\tensorflow_core\\python\\framework\\ops.py\u001b[0m in \u001b[0;36mconvert_to_tensor\u001b[1;34m(value, dtype, name, as_ref, preferred_dtype, dtype_hint, ctx, accepted_result_types)\u001b[0m\n\u001b[0;32m   1312\u001b[0m \u001b[1;33m\u001b[0m\u001b[0m\n\u001b[0;32m   1313\u001b[0m     \u001b[1;32mif\u001b[0m \u001b[0mret\u001b[0m \u001b[1;32mis\u001b[0m \u001b[1;32mNone\u001b[0m\u001b[1;33m:\u001b[0m\u001b[1;33m\u001b[0m\u001b[1;33m\u001b[0m\u001b[0m\n\u001b[1;32m-> 1314\u001b[1;33m       \u001b[0mret\u001b[0m \u001b[1;33m=\u001b[0m \u001b[0mconversion_func\u001b[0m\u001b[1;33m(\u001b[0m\u001b[0mvalue\u001b[0m\u001b[1;33m,\u001b[0m \u001b[0mdtype\u001b[0m\u001b[1;33m=\u001b[0m\u001b[0mdtype\u001b[0m\u001b[1;33m,\u001b[0m \u001b[0mname\u001b[0m\u001b[1;33m=\u001b[0m\u001b[0mname\u001b[0m\u001b[1;33m,\u001b[0m \u001b[0mas_ref\u001b[0m\u001b[1;33m=\u001b[0m\u001b[0mas_ref\u001b[0m\u001b[1;33m)\u001b[0m\u001b[1;33m\u001b[0m\u001b[1;33m\u001b[0m\u001b[0m\n\u001b[0m\u001b[0;32m   1315\u001b[0m \u001b[1;33m\u001b[0m\u001b[0m\n\u001b[0;32m   1316\u001b[0m     \u001b[1;32mif\u001b[0m \u001b[0mret\u001b[0m \u001b[1;32mis\u001b[0m \u001b[0mNotImplemented\u001b[0m\u001b[1;33m:\u001b[0m\u001b[1;33m\u001b[0m\u001b[1;33m\u001b[0m\u001b[0m\n",
      "\u001b[1;32m~\\.conda\\envs\\tesnsorflow\\lib\\site-packages\\tensorflow_core\\python\\framework\\tensor_conversion_registry.py\u001b[0m in \u001b[0;36m_default_conversion_function\u001b[1;34m(***failed resolving arguments***)\u001b[0m\n\u001b[0;32m     50\u001b[0m \u001b[1;32mdef\u001b[0m \u001b[0m_default_conversion_function\u001b[0m\u001b[1;33m(\u001b[0m\u001b[0mvalue\u001b[0m\u001b[1;33m,\u001b[0m \u001b[0mdtype\u001b[0m\u001b[1;33m,\u001b[0m \u001b[0mname\u001b[0m\u001b[1;33m,\u001b[0m \u001b[0mas_ref\u001b[0m\u001b[1;33m)\u001b[0m\u001b[1;33m:\u001b[0m\u001b[1;33m\u001b[0m\u001b[1;33m\u001b[0m\u001b[0m\n\u001b[0;32m     51\u001b[0m   \u001b[1;32mdel\u001b[0m \u001b[0mas_ref\u001b[0m  \u001b[1;31m# Unused.\u001b[0m\u001b[1;33m\u001b[0m\u001b[1;33m\u001b[0m\u001b[0m\n\u001b[1;32m---> 52\u001b[1;33m   \u001b[1;32mreturn\u001b[0m \u001b[0mconstant_op\u001b[0m\u001b[1;33m.\u001b[0m\u001b[0mconstant\u001b[0m\u001b[1;33m(\u001b[0m\u001b[0mvalue\u001b[0m\u001b[1;33m,\u001b[0m \u001b[0mdtype\u001b[0m\u001b[1;33m,\u001b[0m \u001b[0mname\u001b[0m\u001b[1;33m=\u001b[0m\u001b[0mname\u001b[0m\u001b[1;33m)\u001b[0m\u001b[1;33m\u001b[0m\u001b[1;33m\u001b[0m\u001b[0m\n\u001b[0m\u001b[0;32m     53\u001b[0m \u001b[1;33m\u001b[0m\u001b[0m\n\u001b[0;32m     54\u001b[0m \u001b[1;33m\u001b[0m\u001b[0m\n",
      "\u001b[1;32m~\\.conda\\envs\\tesnsorflow\\lib\\site-packages\\tensorflow_core\\python\\framework\\constant_op.py\u001b[0m in \u001b[0;36mconstant\u001b[1;34m(value, dtype, shape, name)\u001b[0m\n\u001b[0;32m    256\u001b[0m   \"\"\"\n\u001b[0;32m    257\u001b[0m   return _constant_impl(value, dtype, shape, name, verify_shape=False,\n\u001b[1;32m--> 258\u001b[1;33m                         allow_broadcast=True)\n\u001b[0m\u001b[0;32m    259\u001b[0m \u001b[1;33m\u001b[0m\u001b[0m\n\u001b[0;32m    260\u001b[0m \u001b[1;33m\u001b[0m\u001b[0m\n",
      "\u001b[1;32m~\\.conda\\envs\\tesnsorflow\\lib\\site-packages\\tensorflow_core\\python\\framework\\constant_op.py\u001b[0m in \u001b[0;36m_constant_impl\u001b[1;34m(value, dtype, shape, name, verify_shape, allow_broadcast)\u001b[0m\n\u001b[0;32m    264\u001b[0m   \u001b[0mctx\u001b[0m \u001b[1;33m=\u001b[0m \u001b[0mcontext\u001b[0m\u001b[1;33m.\u001b[0m\u001b[0mcontext\u001b[0m\u001b[1;33m(\u001b[0m\u001b[1;33m)\u001b[0m\u001b[1;33m\u001b[0m\u001b[1;33m\u001b[0m\u001b[0m\n\u001b[0;32m    265\u001b[0m   \u001b[1;32mif\u001b[0m \u001b[0mctx\u001b[0m\u001b[1;33m.\u001b[0m\u001b[0mexecuting_eagerly\u001b[0m\u001b[1;33m(\u001b[0m\u001b[1;33m)\u001b[0m\u001b[1;33m:\u001b[0m\u001b[1;33m\u001b[0m\u001b[1;33m\u001b[0m\u001b[0m\n\u001b[1;32m--> 266\u001b[1;33m     \u001b[0mt\u001b[0m \u001b[1;33m=\u001b[0m \u001b[0mconvert_to_eager_tensor\u001b[0m\u001b[1;33m(\u001b[0m\u001b[0mvalue\u001b[0m\u001b[1;33m,\u001b[0m \u001b[0mctx\u001b[0m\u001b[1;33m,\u001b[0m \u001b[0mdtype\u001b[0m\u001b[1;33m)\u001b[0m\u001b[1;33m\u001b[0m\u001b[1;33m\u001b[0m\u001b[0m\n\u001b[0m\u001b[0;32m    267\u001b[0m     \u001b[1;32mif\u001b[0m \u001b[0mshape\u001b[0m \u001b[1;32mis\u001b[0m \u001b[1;32mNone\u001b[0m\u001b[1;33m:\u001b[0m\u001b[1;33m\u001b[0m\u001b[1;33m\u001b[0m\u001b[0m\n\u001b[0;32m    268\u001b[0m       \u001b[1;32mreturn\u001b[0m \u001b[0mt\u001b[0m\u001b[1;33m\u001b[0m\u001b[1;33m\u001b[0m\u001b[0m\n",
      "\u001b[1;32m~\\.conda\\envs\\tesnsorflow\\lib\\site-packages\\tensorflow_core\\python\\framework\\constant_op.py\u001b[0m in \u001b[0;36mconvert_to_eager_tensor\u001b[1;34m(value, ctx, dtype)\u001b[0m\n\u001b[0;32m     94\u001b[0m       \u001b[0mdtype\u001b[0m \u001b[1;33m=\u001b[0m \u001b[0mdtypes\u001b[0m\u001b[1;33m.\u001b[0m\u001b[0mas_dtype\u001b[0m\u001b[1;33m(\u001b[0m\u001b[0mdtype\u001b[0m\u001b[1;33m)\u001b[0m\u001b[1;33m.\u001b[0m\u001b[0mas_datatype_enum\u001b[0m\u001b[1;33m\u001b[0m\u001b[1;33m\u001b[0m\u001b[0m\n\u001b[0;32m     95\u001b[0m   \u001b[0mctx\u001b[0m\u001b[1;33m.\u001b[0m\u001b[0mensure_initialized\u001b[0m\u001b[1;33m(\u001b[0m\u001b[1;33m)\u001b[0m\u001b[1;33m\u001b[0m\u001b[1;33m\u001b[0m\u001b[0m\n\u001b[1;32m---> 96\u001b[1;33m   \u001b[1;32mreturn\u001b[0m \u001b[0mops\u001b[0m\u001b[1;33m.\u001b[0m\u001b[0mEagerTensor\u001b[0m\u001b[1;33m(\u001b[0m\u001b[0mvalue\u001b[0m\u001b[1;33m,\u001b[0m \u001b[0mctx\u001b[0m\u001b[1;33m.\u001b[0m\u001b[0mdevice_name\u001b[0m\u001b[1;33m,\u001b[0m \u001b[0mdtype\u001b[0m\u001b[1;33m)\u001b[0m\u001b[1;33m\u001b[0m\u001b[1;33m\u001b[0m\u001b[0m\n\u001b[0m\u001b[0;32m     97\u001b[0m \u001b[1;33m\u001b[0m\u001b[0m\n\u001b[0;32m     98\u001b[0m \u001b[1;33m\u001b[0m\u001b[0m\n",
      "\u001b[1;31mValueError\u001b[0m: could not convert string to float: '00-01-1900 00:17:10.500'"
     ]
    }
   ],
   "source": [
    "model.fit(X, y, epochs=150, batch_size=10)"
   ]
  },
  {
   "cell_type": "code",
   "execution_count": 38,
   "metadata": {},
   "outputs": [],
   "source": [
    "model = Sequential()\n",
    "model.add(Dense(12, input_dim=11, activation='relu'))\n",
    "model.add(Dense(8, activation='relu'))\n",
    "model.add(Dense(1, activation='sigmoid'))"
   ]
  },
  {
   "cell_type": "code",
   "execution_count": 39,
   "metadata": {},
   "outputs": [],
   "source": [
    "model.compile(loss='binary_crossentropy', optimizer='adam', metrics=['accuracy'])"
   ]
  },
  {
   "cell_type": "code",
   "execution_count": 44,
   "metadata": {},
   "outputs": [
    {
     "name": "stdout",
     "output_type": "stream",
     "text": [
      "Epoch 1/150\n",
      "9897/9897 [==============================] - 2s 197us/step - loss: nan - accuracy: 0.0000e+00\n",
      "Epoch 2/150\n",
      "9897/9897 [==============================] - 2s 189us/step - loss: nan - accuracy: 0.0000e+00\n",
      "Epoch 3/150\n",
      "9897/9897 [==============================] - 2s 163us/step - loss: nan - accuracy: 0.0000e+00\n",
      "Epoch 4/150\n",
      "9897/9897 [==============================] - 2s 165us/step - loss: nan - accuracy: 0.0000e+00\n",
      "Epoch 5/150\n",
      "9897/9897 [==============================] - 2s 166us/step - loss: nan - accuracy: 0.0000e+00\n",
      "Epoch 6/150\n",
      "9897/9897 [==============================] - 2s 165us/step - loss: nan - accuracy: 0.0000e+00\n",
      "Epoch 7/150\n",
      "9897/9897 [==============================] - 2s 167us/step - loss: nan - accuracy: 0.0000e+00\n",
      "Epoch 8/150\n",
      "9897/9897 [==============================] - 2s 168us/step - loss: nan - accuracy: 0.0000e+00\n",
      "Epoch 9/150\n",
      "9897/9897 [==============================] - 2s 168us/step - loss: nan - accuracy: 0.0000e+00\n",
      "Epoch 10/150\n",
      "9897/9897 [==============================] - 2s 169us/step - loss: nan - accuracy: 0.0000e+00\n",
      "Epoch 11/150\n",
      "9897/9897 [==============================] - 2s 226us/step - loss: nan - accuracy: 0.0000e+00\n",
      "Epoch 12/150\n",
      "9897/9897 [==============================] - 2s 211us/step - loss: nan - accuracy: 0.0000e+00\n",
      "Epoch 13/150\n",
      "9897/9897 [==============================] - 2s 196us/step - loss: nan - accuracy: 0.0000e+00\n",
      "Epoch 14/150\n",
      "9897/9897 [==============================] - 2s 172us/step - loss: nan - accuracy: 0.0000e+00\n",
      "Epoch 15/150\n",
      "9897/9897 [==============================] - 2s 169us/step - loss: nan - accuracy: 0.0000e+00\n",
      "Epoch 16/150\n",
      "9897/9897 [==============================] - 2s 169us/step - loss: nan - accuracy: 0.0000e+00\n",
      "Epoch 17/150\n",
      "9897/9897 [==============================] - 2s 191us/step - loss: nan - accuracy: 0.0000e+00\n",
      "Epoch 18/150\n",
      "9897/9897 [==============================] - 2s 185us/step - loss: nan - accuracy: 0.0000e+00\n",
      "Epoch 19/150\n",
      "9897/9897 [==============================] - 2s 217us/step - loss: nan - accuracy: 0.0000e+00\n",
      "Epoch 20/150\n",
      "9897/9897 [==============================] - 2s 217us/step - loss: nan - accuracy: 0.0000e+00\n",
      "Epoch 21/150\n",
      "9897/9897 [==============================] - 2s 171us/step - loss: nan - accuracy: 0.0000e+00\n",
      "Epoch 22/150\n",
      "9897/9897 [==============================] - 2s 248us/step - loss: nan - accuracy: 0.0000e+00\n",
      "Epoch 23/150\n",
      "9897/9897 [==============================] - 2s 208us/step - loss: nan - accuracy: 0.0000e+00\n",
      "Epoch 24/150\n",
      "9897/9897 [==============================] - 2s 216us/step - loss: nan - accuracy: 0.0000e+00\n",
      "Epoch 25/150\n",
      "9897/9897 [==============================] - 2s 158us/step - loss: nan - accuracy: 0.0000e+00\n",
      "Epoch 26/150\n",
      "9897/9897 [==============================] - 2s 156us/step - loss: nan - accuracy: 0.0000e+00\n",
      "Epoch 27/150\n",
      "9897/9897 [==============================] - 2s 167us/step - loss: nan - accuracy: 0.0000e+00\n",
      "Epoch 28/150\n",
      "9897/9897 [==============================] - 2s 208us/step - loss: nan - accuracy: 0.0000e+00\n",
      "Epoch 29/150\n",
      "9897/9897 [==============================] - 2s 185us/step - loss: nan - accuracy: 0.0000e+00\n",
      "Epoch 30/150\n",
      "9897/9897 [==============================] - 2s 187us/step - loss: nan - accuracy: 0.0000e+00\n",
      "Epoch 31/150\n",
      "9897/9897 [==============================] - 2s 171us/step - loss: nan - accuracy: 0.0000e+00\n",
      "Epoch 32/150\n",
      "9897/9897 [==============================] - 2s 177us/step - loss: nan - accuracy: 0.0000e+00\n",
      "Epoch 33/150\n",
      "9897/9897 [==============================] - 2s 161us/step - loss: nan - accuracy: 0.0000e+00\n",
      "Epoch 34/150\n",
      "9897/9897 [==============================] - 2s 170us/step - loss: nan - accuracy: 0.0000e+00\n",
      "Epoch 35/150\n",
      "9897/9897 [==============================] - 2s 196us/step - loss: nan - accuracy: 0.0000e+00\n",
      "Epoch 36/150\n",
      "9897/9897 [==============================] - 2s 176us/step - loss: nan - accuracy: 0.0000e+00\n",
      "Epoch 37/150\n",
      "9897/9897 [==============================] - 2s 217us/step - loss: nan - accuracy: 0.0000e+00\n",
      "Epoch 38/150\n",
      "9897/9897 [==============================] - 2s 196us/step - loss: nan - accuracy: 0.0000e+00\n",
      "Epoch 39/150\n",
      "9897/9897 [==============================] - 2s 209us/step - loss: nan - accuracy: 0.0000e+00\n",
      "Epoch 40/150\n",
      "9897/9897 [==============================] - 2s 189us/step - loss: nan - accuracy: 0.0000e+00 2\n",
      "Epoch 41/150\n",
      "9897/9897 [==============================] - 2s 171us/step - loss: nan - accuracy: 0.0000e+00\n",
      "Epoch 42/150\n",
      "9897/9897 [==============================] - 2s 181us/step - loss: nan - accuracy: 0.0000e+00\n",
      "Epoch 43/150\n",
      "9897/9897 [==============================] - 2s 202us/step - loss: nan - accuracy: 0.0000e+00\n",
      "Epoch 44/150\n",
      "9897/9897 [==============================] - 2s 193us/step - loss: nan - accuracy: 0.0000e+00\n",
      "Epoch 45/150\n",
      "2270/9897 [=====>........................] - ETA: 1s - loss: nan - accuracy: 0.0000e+00"
     ]
    },
    {
     "ename": "KeyboardInterrupt",
     "evalue": "",
     "output_type": "error",
     "traceback": [
      "\u001b[1;31m---------------------------------------------------------------------------\u001b[0m",
      "\u001b[1;31mKeyboardInterrupt\u001b[0m                         Traceback (most recent call last)",
      "\u001b[1;32m<ipython-input-44-39d59395a0a6>\u001b[0m in \u001b[0;36m<module>\u001b[1;34m\u001b[0m\n\u001b[1;32m----> 1\u001b[1;33m \u001b[0mmodel\u001b[0m\u001b[1;33m.\u001b[0m\u001b[0mfit\u001b[0m\u001b[1;33m(\u001b[0m\u001b[0mX\u001b[0m\u001b[1;33m,\u001b[0m \u001b[0my\u001b[0m\u001b[1;33m,\u001b[0m \u001b[0mepochs\u001b[0m\u001b[1;33m=\u001b[0m\u001b[1;36m150\u001b[0m\u001b[1;33m,\u001b[0m \u001b[0mbatch_size\u001b[0m\u001b[1;33m=\u001b[0m\u001b[1;36m10\u001b[0m\u001b[1;33m)\u001b[0m\u001b[1;33m\u001b[0m\u001b[1;33m\u001b[0m\u001b[0m\n\u001b[0m",
      "\u001b[1;32m~\\.conda\\envs\\tesnsorflow\\lib\\site-packages\\keras\\engine\\training.py\u001b[0m in \u001b[0;36mfit\u001b[1;34m(self, x, y, batch_size, epochs, verbose, callbacks, validation_split, validation_data, shuffle, class_weight, sample_weight, initial_epoch, steps_per_epoch, validation_steps, validation_freq, max_queue_size, workers, use_multiprocessing, **kwargs)\u001b[0m\n\u001b[0;32m   1237\u001b[0m                                         \u001b[0msteps_per_epoch\u001b[0m\u001b[1;33m=\u001b[0m\u001b[0msteps_per_epoch\u001b[0m\u001b[1;33m,\u001b[0m\u001b[1;33m\u001b[0m\u001b[1;33m\u001b[0m\u001b[0m\n\u001b[0;32m   1238\u001b[0m                                         \u001b[0mvalidation_steps\u001b[0m\u001b[1;33m=\u001b[0m\u001b[0mvalidation_steps\u001b[0m\u001b[1;33m,\u001b[0m\u001b[1;33m\u001b[0m\u001b[1;33m\u001b[0m\u001b[0m\n\u001b[1;32m-> 1239\u001b[1;33m                                         validation_freq=validation_freq)\n\u001b[0m\u001b[0;32m   1240\u001b[0m \u001b[1;33m\u001b[0m\u001b[0m\n\u001b[0;32m   1241\u001b[0m     def evaluate(self,\n",
      "\u001b[1;32m~\\.conda\\envs\\tesnsorflow\\lib\\site-packages\\keras\\engine\\training_arrays.py\u001b[0m in \u001b[0;36mfit_loop\u001b[1;34m(model, fit_function, fit_inputs, out_labels, batch_size, epochs, verbose, callbacks, val_function, val_inputs, shuffle, initial_epoch, steps_per_epoch, validation_steps, validation_freq)\u001b[0m\n\u001b[0;32m    194\u001b[0m                     \u001b[0mins_batch\u001b[0m\u001b[1;33m[\u001b[0m\u001b[0mi\u001b[0m\u001b[1;33m]\u001b[0m \u001b[1;33m=\u001b[0m \u001b[0mins_batch\u001b[0m\u001b[1;33m[\u001b[0m\u001b[0mi\u001b[0m\u001b[1;33m]\u001b[0m\u001b[1;33m.\u001b[0m\u001b[0mtoarray\u001b[0m\u001b[1;33m(\u001b[0m\u001b[1;33m)\u001b[0m\u001b[1;33m\u001b[0m\u001b[1;33m\u001b[0m\u001b[0m\n\u001b[0;32m    195\u001b[0m \u001b[1;33m\u001b[0m\u001b[0m\n\u001b[1;32m--> 196\u001b[1;33m                 \u001b[0mouts\u001b[0m \u001b[1;33m=\u001b[0m \u001b[0mfit_function\u001b[0m\u001b[1;33m(\u001b[0m\u001b[0mins_batch\u001b[0m\u001b[1;33m)\u001b[0m\u001b[1;33m\u001b[0m\u001b[1;33m\u001b[0m\u001b[0m\n\u001b[0m\u001b[0;32m    197\u001b[0m                 \u001b[0mouts\u001b[0m \u001b[1;33m=\u001b[0m \u001b[0mto_list\u001b[0m\u001b[1;33m(\u001b[0m\u001b[0mouts\u001b[0m\u001b[1;33m)\u001b[0m\u001b[1;33m\u001b[0m\u001b[1;33m\u001b[0m\u001b[0m\n\u001b[0;32m    198\u001b[0m                 \u001b[1;32mfor\u001b[0m \u001b[0ml\u001b[0m\u001b[1;33m,\u001b[0m \u001b[0mo\u001b[0m \u001b[1;32min\u001b[0m \u001b[0mzip\u001b[0m\u001b[1;33m(\u001b[0m\u001b[0mout_labels\u001b[0m\u001b[1;33m,\u001b[0m \u001b[0mouts\u001b[0m\u001b[1;33m)\u001b[0m\u001b[1;33m:\u001b[0m\u001b[1;33m\u001b[0m\u001b[1;33m\u001b[0m\u001b[0m\n",
      "\u001b[1;32m~\\.conda\\envs\\tesnsorflow\\lib\\site-packages\\tensorflow_core\\python\\keras\\backend.py\u001b[0m in \u001b[0;36m__call__\u001b[1;34m(self, inputs)\u001b[0m\n\u001b[0;32m   3725\u001b[0m         \u001b[0mvalue\u001b[0m \u001b[1;33m=\u001b[0m \u001b[0mmath_ops\u001b[0m\u001b[1;33m.\u001b[0m\u001b[0mcast\u001b[0m\u001b[1;33m(\u001b[0m\u001b[0mvalue\u001b[0m\u001b[1;33m,\u001b[0m \u001b[0mtensor\u001b[0m\u001b[1;33m.\u001b[0m\u001b[0mdtype\u001b[0m\u001b[1;33m)\u001b[0m\u001b[1;33m\u001b[0m\u001b[1;33m\u001b[0m\u001b[0m\n\u001b[0;32m   3726\u001b[0m       \u001b[0mconverted_inputs\u001b[0m\u001b[1;33m.\u001b[0m\u001b[0mappend\u001b[0m\u001b[1;33m(\u001b[0m\u001b[0mvalue\u001b[0m\u001b[1;33m)\u001b[0m\u001b[1;33m\u001b[0m\u001b[1;33m\u001b[0m\u001b[0m\n\u001b[1;32m-> 3727\u001b[1;33m     \u001b[0moutputs\u001b[0m \u001b[1;33m=\u001b[0m \u001b[0mself\u001b[0m\u001b[1;33m.\u001b[0m\u001b[0m_graph_fn\u001b[0m\u001b[1;33m(\u001b[0m\u001b[1;33m*\u001b[0m\u001b[0mconverted_inputs\u001b[0m\u001b[1;33m)\u001b[0m\u001b[1;33m\u001b[0m\u001b[1;33m\u001b[0m\u001b[0m\n\u001b[0m\u001b[0;32m   3728\u001b[0m \u001b[1;33m\u001b[0m\u001b[0m\n\u001b[0;32m   3729\u001b[0m     \u001b[1;31m# EagerTensor.numpy() will often make a copy to ensure memory safety.\u001b[0m\u001b[1;33m\u001b[0m\u001b[1;33m\u001b[0m\u001b[1;33m\u001b[0m\u001b[0m\n",
      "\u001b[1;32m~\\.conda\\envs\\tesnsorflow\\lib\\site-packages\\tensorflow_core\\python\\eager\\function.py\u001b[0m in \u001b[0;36m__call__\u001b[1;34m(self, *args, **kwargs)\u001b[0m\n\u001b[0;32m   1549\u001b[0m       \u001b[0mTypeError\u001b[0m\u001b[1;33m:\u001b[0m \u001b[0mFor\u001b[0m \u001b[0minvalid\u001b[0m \u001b[0mpositional\u001b[0m\u001b[1;33m/\u001b[0m\u001b[0mkeyword\u001b[0m \u001b[0margument\u001b[0m \u001b[0mcombinations\u001b[0m\u001b[1;33m.\u001b[0m\u001b[1;33m\u001b[0m\u001b[1;33m\u001b[0m\u001b[0m\n\u001b[0;32m   1550\u001b[0m     \"\"\"\n\u001b[1;32m-> 1551\u001b[1;33m     \u001b[1;32mreturn\u001b[0m \u001b[0mself\u001b[0m\u001b[1;33m.\u001b[0m\u001b[0m_call_impl\u001b[0m\u001b[1;33m(\u001b[0m\u001b[0margs\u001b[0m\u001b[1;33m,\u001b[0m \u001b[0mkwargs\u001b[0m\u001b[1;33m)\u001b[0m\u001b[1;33m\u001b[0m\u001b[1;33m\u001b[0m\u001b[0m\n\u001b[0m\u001b[0;32m   1552\u001b[0m \u001b[1;33m\u001b[0m\u001b[0m\n\u001b[0;32m   1553\u001b[0m   \u001b[1;32mdef\u001b[0m \u001b[0m_call_impl\u001b[0m\u001b[1;33m(\u001b[0m\u001b[0mself\u001b[0m\u001b[1;33m,\u001b[0m \u001b[0margs\u001b[0m\u001b[1;33m,\u001b[0m \u001b[0mkwargs\u001b[0m\u001b[1;33m,\u001b[0m \u001b[0mcancellation_manager\u001b[0m\u001b[1;33m=\u001b[0m\u001b[1;32mNone\u001b[0m\u001b[1;33m)\u001b[0m\u001b[1;33m:\u001b[0m\u001b[1;33m\u001b[0m\u001b[1;33m\u001b[0m\u001b[0m\n",
      "\u001b[1;32m~\\.conda\\envs\\tesnsorflow\\lib\\site-packages\\tensorflow_core\\python\\eager\\function.py\u001b[0m in \u001b[0;36m_call_impl\u001b[1;34m(self, args, kwargs, cancellation_manager)\u001b[0m\n\u001b[0;32m   1589\u001b[0m       raise TypeError(\"Keyword arguments {} unknown. Expected {}.\".format(\n\u001b[0;32m   1590\u001b[0m           list(kwargs.keys()), list(self._arg_keywords)))\n\u001b[1;32m-> 1591\u001b[1;33m     \u001b[1;32mreturn\u001b[0m \u001b[0mself\u001b[0m\u001b[1;33m.\u001b[0m\u001b[0m_call_flat\u001b[0m\u001b[1;33m(\u001b[0m\u001b[0margs\u001b[0m\u001b[1;33m,\u001b[0m \u001b[0mself\u001b[0m\u001b[1;33m.\u001b[0m\u001b[0mcaptured_inputs\u001b[0m\u001b[1;33m,\u001b[0m \u001b[0mcancellation_manager\u001b[0m\u001b[1;33m)\u001b[0m\u001b[1;33m\u001b[0m\u001b[1;33m\u001b[0m\u001b[0m\n\u001b[0m\u001b[0;32m   1592\u001b[0m \u001b[1;33m\u001b[0m\u001b[0m\n\u001b[0;32m   1593\u001b[0m   \u001b[1;32mdef\u001b[0m \u001b[0m_filtered_call\u001b[0m\u001b[1;33m(\u001b[0m\u001b[0mself\u001b[0m\u001b[1;33m,\u001b[0m \u001b[0margs\u001b[0m\u001b[1;33m,\u001b[0m \u001b[0mkwargs\u001b[0m\u001b[1;33m)\u001b[0m\u001b[1;33m:\u001b[0m\u001b[1;33m\u001b[0m\u001b[1;33m\u001b[0m\u001b[0m\n",
      "\u001b[1;32m~\\.conda\\envs\\tesnsorflow\\lib\\site-packages\\tensorflow_core\\python\\eager\\function.py\u001b[0m in \u001b[0;36m_call_flat\u001b[1;34m(self, args, captured_inputs, cancellation_manager)\u001b[0m\n\u001b[0;32m   1690\u001b[0m       \u001b[1;31m# No tape is watching; skip to running the function.\u001b[0m\u001b[1;33m\u001b[0m\u001b[1;33m\u001b[0m\u001b[1;33m\u001b[0m\u001b[0m\n\u001b[0;32m   1691\u001b[0m       return self._build_call_outputs(self._inference_function.call(\n\u001b[1;32m-> 1692\u001b[1;33m           ctx, args, cancellation_manager=cancellation_manager))\n\u001b[0m\u001b[0;32m   1693\u001b[0m     forward_backward = self._select_forward_and_backward_functions(\n\u001b[0;32m   1694\u001b[0m         \u001b[0margs\u001b[0m\u001b[1;33m,\u001b[0m\u001b[1;33m\u001b[0m\u001b[1;33m\u001b[0m\u001b[0m\n",
      "\u001b[1;32m~\\.conda\\envs\\tesnsorflow\\lib\\site-packages\\tensorflow_core\\python\\eager\\function.py\u001b[0m in \u001b[0;36mcall\u001b[1;34m(self, ctx, args, cancellation_manager)\u001b[0m\n\u001b[0;32m    543\u001b[0m               \u001b[0minputs\u001b[0m\u001b[1;33m=\u001b[0m\u001b[0margs\u001b[0m\u001b[1;33m,\u001b[0m\u001b[1;33m\u001b[0m\u001b[1;33m\u001b[0m\u001b[0m\n\u001b[0;32m    544\u001b[0m               \u001b[0mattrs\u001b[0m\u001b[1;33m=\u001b[0m\u001b[1;33m(\u001b[0m\u001b[1;34m\"executor_type\"\u001b[0m\u001b[1;33m,\u001b[0m \u001b[0mexecutor_type\u001b[0m\u001b[1;33m,\u001b[0m \u001b[1;34m\"config_proto\"\u001b[0m\u001b[1;33m,\u001b[0m \u001b[0mconfig\u001b[0m\u001b[1;33m)\u001b[0m\u001b[1;33m,\u001b[0m\u001b[1;33m\u001b[0m\u001b[1;33m\u001b[0m\u001b[0m\n\u001b[1;32m--> 545\u001b[1;33m               ctx=ctx)\n\u001b[0m\u001b[0;32m    546\u001b[0m         \u001b[1;32melse\u001b[0m\u001b[1;33m:\u001b[0m\u001b[1;33m\u001b[0m\u001b[1;33m\u001b[0m\u001b[0m\n\u001b[0;32m    547\u001b[0m           outputs = execute.execute_with_cancellation(\n",
      "\u001b[1;32m~\\.conda\\envs\\tesnsorflow\\lib\\site-packages\\tensorflow_core\\python\\eager\\execute.py\u001b[0m in \u001b[0;36mquick_execute\u001b[1;34m(op_name, num_outputs, inputs, attrs, ctx, name)\u001b[0m\n\u001b[0;32m     59\u001b[0m     tensors = pywrap_tensorflow.TFE_Py_Execute(ctx._handle, device_name,\n\u001b[0;32m     60\u001b[0m                                                \u001b[0mop_name\u001b[0m\u001b[1;33m,\u001b[0m \u001b[0minputs\u001b[0m\u001b[1;33m,\u001b[0m \u001b[0mattrs\u001b[0m\u001b[1;33m,\u001b[0m\u001b[1;33m\u001b[0m\u001b[1;33m\u001b[0m\u001b[0m\n\u001b[1;32m---> 61\u001b[1;33m                                                num_outputs)\n\u001b[0m\u001b[0;32m     62\u001b[0m   \u001b[1;32mexcept\u001b[0m \u001b[0mcore\u001b[0m\u001b[1;33m.\u001b[0m\u001b[0m_NotOkStatusException\u001b[0m \u001b[1;32mas\u001b[0m \u001b[0me\u001b[0m\u001b[1;33m:\u001b[0m\u001b[1;33m\u001b[0m\u001b[1;33m\u001b[0m\u001b[0m\n\u001b[0;32m     63\u001b[0m     \u001b[1;32mif\u001b[0m \u001b[0mname\u001b[0m \u001b[1;32mis\u001b[0m \u001b[1;32mnot\u001b[0m \u001b[1;32mNone\u001b[0m\u001b[1;33m:\u001b[0m\u001b[1;33m\u001b[0m\u001b[1;33m\u001b[0m\u001b[0m\n",
      "\u001b[1;31mKeyboardInterrupt\u001b[0m: "
     ]
    }
   ],
   "source": [
    "model.fit(X, y, epochs=150, batch_size=10)"
   ]
  },
  {
   "cell_type": "code",
   "execution_count": 41,
   "metadata": {},
   "outputs": [],
   "source": []
  },
  {
   "cell_type": "code",
   "execution_count": 43,
   "metadata": {},
   "outputs": [
    {
     "ename": "IndentationError",
     "evalue": "expected an indented block (<ipython-input-43-1ded9f571c82>, line 2)",
     "output_type": "error",
     "traceback": [
      "\u001b[1;36m  File \u001b[1;32m\"<ipython-input-43-1ded9f571c82>\"\u001b[1;36m, line \u001b[1;32m2\u001b[0m\n\u001b[1;33m    print('%s => %d (expected %d)' % (X[i].tolist(), predictions[i], y[i]))\u001b[0m\n\u001b[1;37m        ^\u001b[0m\n\u001b[1;31mIndentationError\u001b[0m\u001b[1;31m:\u001b[0m expected an indented block\n"
     ]
    }
   ],
   "source": []
  },
  {
   "cell_type": "code",
   "execution_count": null,
   "metadata": {},
   "outputs": [],
   "source": [
    "predictions"
   ]
  },
  {
   "cell_type": "code",
   "execution_count": null,
   "metadata": {},
   "outputs": [],
   "source": []
  },
  {
   "cell_type": "code",
   "execution_count": 45,
   "metadata": {},
   "outputs": [
    {
     "name": "stdout",
     "output_type": "stream",
     "text": [
      "Epoch 1/5\n",
      "9897/9897 [==============================] - 2s 176us/step - loss: nan - accuracy: 0.0000e+00\n",
      "Epoch 2/5\n",
      "9897/9897 [==============================] - 2s 171us/step - loss: nan - accuracy: 0.0000e+00\n",
      "Epoch 3/5\n",
      "9897/9897 [==============================] - 2s 171us/step - loss: nan - accuracy: 0.0000e+00\n",
      "Epoch 4/5\n",
      "9897/9897 [==============================] - 2s 168us/step - loss: nan - accuracy: 0.0000e+00\n",
      "Epoch 5/5\n",
      "9897/9897 [==============================] - 2s 168us/step - loss: nan - accuracy: 0.0000e+00\n"
     ]
    },
    {
     "data": {
      "text/plain": [
       "<keras.callbacks.callbacks.History at 0x1c70b2e9308>"
      ]
     },
     "execution_count": 45,
     "metadata": {},
     "output_type": "execute_result"
    }
   ],
   "source": [
    "model.fit(X, y, epochs=5, batch_size=10)"
   ]
  },
  {
   "cell_type": "code",
   "execution_count": 46,
   "metadata": {},
   "outputs": [
    {
     "name": "stdout",
     "output_type": "stream",
     "text": [
      "9897/9897 [==============================] - 0s 27us/step\n"
     ]
    }
   ],
   "source": [
    "accuracy = model.evaluate(X, y)"
   ]
  },
  {
   "cell_type": "code",
   "execution_count": 47,
   "metadata": {},
   "outputs": [
    {
     "ename": "TypeError",
     "evalue": "must be real number, not list",
     "output_type": "error",
     "traceback": [
      "\u001b[1;31m---------------------------------------------------------------------------\u001b[0m",
      "\u001b[1;31mTypeError\u001b[0m                                 Traceback (most recent call last)",
      "\u001b[1;32m<ipython-input-47-2bf7b58d7b31>\u001b[0m in \u001b[0;36m<module>\u001b[1;34m\u001b[0m\n\u001b[1;32m----> 1\u001b[1;33m \u001b[0mprint\u001b[0m\u001b[1;33m(\u001b[0m\u001b[1;34m'Accuracy: %.2f'\u001b[0m \u001b[1;33m%\u001b[0m \u001b[1;33m(\u001b[0m\u001b[0maccuracy\u001b[0m\u001b[1;33m*\u001b[0m\u001b[1;36m100\u001b[0m\u001b[1;33m)\u001b[0m\u001b[1;33m)\u001b[0m\u001b[1;33m\u001b[0m\u001b[1;33m\u001b[0m\u001b[0m\n\u001b[0m",
      "\u001b[1;31mTypeError\u001b[0m: must be real number, not list"
     ]
    }
   ],
   "source": [
    "print('Accuracy: %.2f' % (accuracy*100))"
   ]
  },
  {
   "cell_type": "code",
   "execution_count": 48,
   "metadata": {},
   "outputs": [
    {
     "name": "stdout",
     "output_type": "stream",
     "text": [
      "Epoch 1/10\n",
      "9897/9897 [==============================] - 0s 4us/step - loss: nan - accuracy: 0.0000e+00\n",
      "Epoch 2/10\n",
      "9897/9897 [==============================] - 0s 5us/step - loss: nan - accuracy: 0.0000e+00\n",
      "Epoch 3/10\n",
      "9897/9897 [==============================] - 0s 4us/step - loss: nan - accuracy: 0.0000e+00\n",
      "Epoch 4/10\n",
      "9897/9897 [==============================] - 0s 4us/step - loss: nan - accuracy: 0.0000e+00\n",
      "Epoch 5/10\n",
      "9897/9897 [==============================] - 0s 5us/step - loss: nan - accuracy: 0.0000e+00\n",
      "Epoch 6/10\n",
      "9897/9897 [==============================] - 0s 4us/step - loss: nan - accuracy: 0.0000e+00\n",
      "Epoch 7/10\n",
      "9897/9897 [==============================] - 0s 4us/step - loss: nan - accuracy: 0.0000e+00\n",
      "Epoch 8/10\n",
      "9897/9897 [==============================] - 0s 4us/step - loss: nan - accuracy: 0.0000e+00\n",
      "Epoch 9/10\n",
      "9897/9897 [==============================] - 0s 4us/step - loss: nan - accuracy: 0.0000e+00\n",
      "Epoch 10/10\n",
      "9897/9897 [==============================] - 0s 4us/step - loss: nan - accuracy: 0.0000e+00\n",
      "9897/9897 [==============================] - 0s 23us/step\n"
     ]
    }
   ],
   "source": [
    "model.fit(X, y, epochs=10, batch_size=1000)\n",
    "accuracy = model.evaluate(X, y)\n"
   ]
  },
  {
   "cell_type": "code",
   "execution_count": 3,
   "metadata": {},
   "outputs": [
    {
     "ename": "ModuleNotFoundError",
     "evalue": "No module named 'keras'",
     "output_type": "error",
     "traceback": [
      "\u001b[1;31m---------------------------------------------------------------------------\u001b[0m",
      "\u001b[1;31mModuleNotFoundError\u001b[0m                       Traceback (most recent call last)",
      "\u001b[1;32m<ipython-input-3-60e272704458>\u001b[0m in \u001b[0;36m<module>\u001b[1;34m\u001b[0m\n\u001b[0;32m      1\u001b[0m \u001b[1;32mfrom\u001b[0m \u001b[0mnumpy\u001b[0m \u001b[1;32mimport\u001b[0m \u001b[0mloadtxt\u001b[0m\u001b[1;33m\u001b[0m\u001b[1;33m\u001b[0m\u001b[0m\n\u001b[1;32m----> 2\u001b[1;33m \u001b[1;32mfrom\u001b[0m \u001b[0mkeras\u001b[0m\u001b[1;33m.\u001b[0m\u001b[0mmodels\u001b[0m \u001b[1;32mimport\u001b[0m \u001b[0mSequential\u001b[0m\u001b[1;33m\u001b[0m\u001b[1;33m\u001b[0m\u001b[0m\n\u001b[0m\u001b[0;32m      3\u001b[0m \u001b[1;32mfrom\u001b[0m \u001b[0mkeras\u001b[0m\u001b[1;33m.\u001b[0m\u001b[0mlayers\u001b[0m \u001b[1;32mimport\u001b[0m \u001b[0mDense\u001b[0m\u001b[1;33m\u001b[0m\u001b[1;33m\u001b[0m\u001b[0m\n\u001b[0;32m      4\u001b[0m \u001b[1;32mimport\u001b[0m \u001b[0mpandas\u001b[0m \u001b[1;32mas\u001b[0m \u001b[0mpd\u001b[0m\u001b[1;33m\u001b[0m\u001b[1;33m\u001b[0m\u001b[0m\n\u001b[0;32m      5\u001b[0m \u001b[1;32mimport\u001b[0m \u001b[0mnumpy\u001b[0m \u001b[1;32mas\u001b[0m \u001b[0mnp\u001b[0m\u001b[1;33m\u001b[0m\u001b[1;33m\u001b[0m\u001b[0m\n",
      "\u001b[1;31mModuleNotFoundError\u001b[0m: No module named 'keras'"
     ]
    }
   ],
   "source": [
    "from numpy import loadtxt\n",
    "from keras.models import Sequential\n",
    "from keras.layers import Dense\n",
    "import pandas as pd\n",
    "import numpy as np\n",
    "bot_df = pd.read_csv(\"PLDeepLearnCTU13_10K - ClosenessCentrality.csv\")\n",
    "bot_df.head()\n",
    "bot_feature = bot_df.copy()\n",
    "bot_labels = bot_feature.pop('Lbls')\n",
    "bot_feature = np.array(bot_feature)\n",
    "bot_feature\n"
   ]
  },
  {
   "cell_type": "code",
   "execution_count": 51,
   "metadata": {},
   "outputs": [],
   "source": [
    "X = bot_feature[:,0:8]\n",
    "y = bot_feature[:,8]\n",
    "model = Sequential()\n",
    "model.add(Dense(12, input_dim=8, activation='relu'))\n",
    "model.add(Dense(8, activation='relu'))\n",
    "model.add(Dense(1, activation='sigmoid'))\n",
    "model.compile(loss='binary_crossentropy', optimizer='adam', metrics=['accuracy'])"
   ]
  },
  {
   "cell_type": "code",
   "execution_count": 52,
   "metadata": {},
   "outputs": [
    {
     "name": "stdout",
     "output_type": "stream",
     "text": [
      "Epoch 1/150\n",
      "9897/9897 [==============================] - 0s 36us/step - loss: 5.7035 - accuracy: 0.9564\n",
      "Epoch 2/150\n",
      "9897/9897 [==============================] - 0s 21us/step - loss: 3.0651 - accuracy: 0.9590\n",
      "Epoch 3/150\n",
      "9897/9897 [==============================] - 0s 19us/step - loss: 2.1859 - accuracy: 0.9586\n",
      "Epoch 4/150\n",
      "9897/9897 [==============================] - 0s 24us/step - loss: 10.8215 - accuracy: 0.9571\n",
      "Epoch 5/150\n",
      "9897/9897 [==============================] - 0s 24us/step - loss: 2.7084 - accuracy: 0.9580\n",
      "Epoch 6/150\n",
      "9897/9897 [==============================] - 0s 26us/step - loss: 7.3888 - accuracy: 0.9542\n",
      "Epoch 7/150\n",
      "9897/9897 [==============================] - 0s 24us/step - loss: 5.2843 - accuracy: 0.9624\n",
      "Epoch 8/150\n",
      "9897/9897 [==============================] - 0s 26us/step - loss: 2.4171 - accuracy: 0.9571\n",
      "Epoch 9/150\n",
      "9897/9897 [==============================] - 0s 25us/step - loss: 10.0508 - accuracy: 0.9551\n",
      "Epoch 10/150\n",
      "9897/9897 [==============================] - 0s 25us/step - loss: 4.2293 - accuracy: 0.9600\n",
      "Epoch 11/150\n",
      "9897/9897 [==============================] - 0s 24us/step - loss: 2.2227 - accuracy: 0.9584\n",
      "Epoch 12/150\n",
      "9897/9897 [==============================] - 0s 25us/step - loss: 1.9005 - accuracy: 0.9565\n",
      "Epoch 13/150\n",
      "9897/9897 [==============================] - 0s 21us/step - loss: 6.9089 - accuracy: 0.9562\n",
      "Epoch 14/150\n",
      "9897/9897 [==============================] - 0s 19us/step - loss: 2.0938 - accuracy: 0.9580\n",
      "Epoch 15/150\n",
      "9897/9897 [==============================] - 0s 21us/step - loss: 8.3680 - accuracy: 0.9596\n",
      "Epoch 16/150\n",
      "9897/9897 [==============================] - 0s 21us/step - loss: 1.3357 - accuracy: 0.9564\n",
      "Epoch 17/150\n",
      "9897/9897 [==============================] - 0s 20us/step - loss: 5.5648 - accuracy: 0.9573\n",
      "Epoch 18/150\n",
      "9897/9897 [==============================] - 0s 19us/step - loss: 2.7948 - accuracy: 0.9568\n",
      "Epoch 19/150\n",
      "9897/9897 [==============================] - 0s 20us/step - loss: 2.0072 - accuracy: 0.9589\n",
      "Epoch 20/150\n",
      "9897/9897 [==============================] - 0s 19us/step - loss: 6.1153 - accuracy: 0.9584\n",
      "Epoch 21/150\n",
      "9897/9897 [==============================] - 0s 21us/step - loss: 1.5030 - accuracy: 0.9538\n",
      "Epoch 22/150\n",
      "9897/9897 [==============================] - 0s 20us/step - loss: 6.9840 - accuracy: 0.9579\n",
      "Epoch 23/150\n",
      "9897/9897 [==============================] - 0s 21us/step - loss: 2.4532 - accuracy: 0.9552\n",
      "Epoch 24/150\n",
      "9897/9897 [==============================] - 0s 20us/step - loss: 1.5239 - accuracy: 0.9602\n",
      "Epoch 25/150\n",
      "9897/9897 [==============================] - 0s 20us/step - loss: 11.2452 - accuracy: 0.9575\n",
      "Epoch 26/150\n",
      "9897/9897 [==============================] - 0s 21us/step - loss: 3.2453 - accuracy: 0.9580\n",
      "Epoch 27/150\n",
      "9897/9897 [==============================] - 0s 20us/step - loss: 1.5173 - accuracy: 0.9580\n",
      "Epoch 28/150\n",
      "9897/9897 [==============================] - 0s 21us/step - loss: 2.6053 - accuracy: 0.9560\n",
      "Epoch 29/150\n",
      "9897/9897 [==============================] - 0s 20us/step - loss: 6.2114 - accuracy: 0.9578\n",
      "Epoch 30/150\n",
      "9897/9897 [==============================] - 0s 20us/step - loss: 2.7930 - accuracy: 0.9600\n",
      "Epoch 31/150\n",
      "9897/9897 [==============================] - 0s 20us/step - loss: 1.9814 - accuracy: 0.9571\n",
      "Epoch 32/150\n",
      "9897/9897 [==============================] - 0s 20us/step - loss: 8.0391 - accuracy: 0.9581\n",
      "Epoch 33/150\n",
      "9897/9897 [==============================] - 0s 20us/step - loss: 5.6325 - accuracy: 0.9562\n",
      "Epoch 34/150\n",
      "9897/9897 [==============================] - 0s 22us/step - loss: 1.6063 - accuracy: 0.9556\n",
      "Epoch 35/150\n",
      "9897/9897 [==============================] - 0s 20us/step - loss: 9.2050 - accuracy: 0.9562\n",
      "Epoch 36/150\n",
      "9897/9897 [==============================] - 0s 20us/step - loss: 2.6239 - accuracy: 0.9581\n",
      "Epoch 37/150\n",
      "9897/9897 [==============================] - 0s 19us/step - loss: 1.4135 - accuracy: 0.9571\n",
      "Epoch 38/150\n",
      "9897/9897 [==============================] - 0s 22us/step - loss: 3.5421 - accuracy: 0.9570\n",
      "Epoch 39/150\n",
      "9897/9897 [==============================] - 0s 20us/step - loss: 2.5644 - accuracy: 0.9583\n",
      "Epoch 40/150\n",
      "9897/9897 [==============================] - 0s 20us/step - loss: 14.6824 - accuracy: 0.9571\n",
      "Epoch 41/150\n",
      "9897/9897 [==============================] - 0s 20us/step - loss: 2.5134 - accuracy: 0.9561\n",
      "Epoch 42/150\n",
      "9897/9897 [==============================] - 0s 20us/step - loss: 1.8499 - accuracy: 0.9568\n",
      "Epoch 43/150\n",
      "9897/9897 [==============================] - 0s 20us/step - loss: 1.6353 - accuracy: 0.9571\n",
      "Epoch 44/150\n",
      "9897/9897 [==============================] - 0s 21us/step - loss: 1.5342 - accuracy: 0.9577\n",
      "Epoch 45/150\n",
      "9897/9897 [==============================] - 0s 20us/step - loss: 2.0728 - accuracy: 0.9559\n",
      "Epoch 46/150\n",
      "9897/9897 [==============================] - 0s 20us/step - loss: 4.7349 - accuracy: 0.9626\n",
      "Epoch 47/150\n",
      "9897/9897 [==============================] - 0s 20us/step - loss: 5.6386 - accuracy: 0.9552\n",
      "Epoch 48/150\n",
      "9897/9897 [==============================] - 0s 21us/step - loss: 4.1489 - accuracy: 0.9555\n",
      "Epoch 49/150\n",
      "9897/9897 [==============================] - 0s 20us/step - loss: 2.3978 - accuracy: 0.9570\n",
      "Epoch 50/150\n",
      "9897/9897 [==============================] - 0s 20us/step - loss: 1.4775 - accuracy: 0.9590\n",
      "Epoch 51/150\n",
      "9897/9897 [==============================] - 0s 20us/step - loss: 1.2561 - accuracy: 0.9572\n",
      "Epoch 52/150\n",
      "9897/9897 [==============================] - 0s 20us/step - loss: 1.0795 - accuracy: 0.9581\n",
      "Epoch 53/150\n",
      "9897/9897 [==============================] - 0s 20us/step - loss: 11.0309 - accuracy: 0.9549\n",
      "Epoch 54/150\n",
      "9897/9897 [==============================] - 0s 20us/step - loss: 1.0774 - accuracy: 0.9596\n",
      "Epoch 55/150\n",
      "9897/9897 [==============================] - 0s 20us/step - loss: 1.2220 - accuracy: 0.9569\n",
      "Epoch 56/150\n",
      "9897/9897 [==============================] - 0s 22us/step - loss: 1.5356 - accuracy: 0.9624\n",
      "Epoch 57/150\n",
      "9897/9897 [==============================] - 0s 19us/step - loss: 1.4388 - accuracy: 0.9572\n",
      "Epoch 58/150\n",
      "9897/9897 [==============================] - 0s 19us/step - loss: 11.8397 - accuracy: 0.9608\n",
      "Epoch 59/150\n",
      "9897/9897 [==============================] - 0s 22us/step - loss: 1.4329 - accuracy: 0.9535\n",
      "Epoch 60/150\n",
      "9897/9897 [==============================] - 0s 19us/step - loss: 1.5809 - accuracy: 0.9597\n",
      "Epoch 61/150\n",
      "9897/9897 [==============================] - 0s 22us/step - loss: 1.4040 - accuracy: 0.9565\n",
      "Epoch 62/150\n",
      "9897/9897 [==============================] - 0s 19us/step - loss: 7.7978 - accuracy: 0.9591\n",
      "Epoch 63/150\n",
      "9897/9897 [==============================] - 0s 20us/step - loss: 1.8344 - accuracy: 0.9575\n",
      "Epoch 64/150\n",
      "9897/9897 [==============================] - 0s 20us/step - loss: 3.1710 - accuracy: 0.9580\n",
      "Epoch 65/150\n",
      "9897/9897 [==============================] - 0s 22us/step - loss: 2.2427 - accuracy: 0.9602\n",
      "Epoch 66/150\n",
      "9897/9897 [==============================] - 0s 20us/step - loss: 1.2630 - accuracy: 0.9580\n",
      "Epoch 67/150\n",
      "9897/9897 [==============================] - 0s 19us/step - loss: 5.2653 - accuracy: 0.9570\n",
      "Epoch 68/150\n",
      "9897/9897 [==============================] - 0s 21us/step - loss: 1.1382 - accuracy: 0.9577\n",
      "Epoch 69/150\n",
      "9897/9897 [==============================] - 0s 20us/step - loss: 1.5364 - accuracy: 0.9554\n",
      "Epoch 70/150\n",
      "9897/9897 [==============================] - 0s 20us/step - loss: 8.2289 - accuracy: 0.9602\n",
      "Epoch 71/150\n",
      "9897/9897 [==============================] - 0s 22us/step - loss: 2.3366 - accuracy: 0.9582\n",
      "Epoch 72/150\n",
      "9897/9897 [==============================] - 0s 20us/step - loss: 2.5464 - accuracy: 0.9588\n",
      "Epoch 73/150\n",
      "9897/9897 [==============================] - 0s 22us/step - loss: 2.8916 - accuracy: 0.9554\n",
      "Epoch 74/150\n",
      "9897/9897 [==============================] - 0s 20us/step - loss: 1.0647 - accuracy: 0.9559\n",
      "Epoch 75/150\n",
      "9897/9897 [==============================] - 0s 20us/step - loss: 2.3237 - accuracy: 0.9599\n",
      "Epoch 76/150\n",
      "9897/9897 [==============================] - 0s 21us/step - loss: 5.3333 - accuracy: 0.9569\n",
      "Epoch 77/150\n",
      "9897/9897 [==============================] - 0s 20us/step - loss: 1.5583 - accuracy: 0.9589\n",
      "Epoch 78/150\n",
      "9897/9897 [==============================] - 0s 22us/step - loss: 5.6244 - accuracy: 0.9508\n",
      "Epoch 79/150\n"
     ]
    },
    {
     "name": "stdout",
     "output_type": "stream",
     "text": [
      "9897/9897 [==============================] - 0s 19us/step - loss: 2.4320 - accuracy: 0.9616\n",
      "Epoch 80/150\n",
      "9897/9897 [==============================] - 0s 19us/step - loss: 0.3313 - accuracy: 0.9746\n",
      "Epoch 81/150\n",
      "9897/9897 [==============================] - 0s 25us/step - loss: 0.8688 - accuracy: 0.9612\n",
      "Epoch 82/150\n",
      "9897/9897 [==============================] - 0s 23us/step - loss: 0.2280 - accuracy: 0.9738\n",
      "Epoch 83/150\n",
      "9897/9897 [==============================] - 0s 23us/step - loss: 0.2019 - accuracy: 0.9702\n",
      "Epoch 84/150\n",
      "9897/9897 [==============================] - 0s 28us/step - loss: 0.1626 - accuracy: 0.9697\n",
      "Epoch 85/150\n",
      "9897/9897 [==============================] - 0s 23us/step - loss: 0.1902 - accuracy: 0.9708\n",
      "Epoch 86/150\n",
      "9897/9897 [==============================] - 0s 24us/step - loss: 0.1430 - accuracy: 0.9730\n",
      "Epoch 87/150\n",
      "9897/9897 [==============================] - 0s 30us/step - loss: 0.1753 - accuracy: 0.9745\n",
      "Epoch 88/150\n",
      "9897/9897 [==============================] - 0s 24us/step - loss: 0.2579 - accuracy: 0.9787\n",
      "Epoch 89/150\n",
      "9897/9897 [==============================] - 0s 23us/step - loss: 0.1476 - accuracy: 0.9748\n",
      "Epoch 90/150\n",
      "9897/9897 [==============================] - 0s 18us/step - loss: 0.3997 - accuracy: 0.9762\n",
      "Epoch 91/150\n",
      "9897/9897 [==============================] - 0s 20us/step - loss: 0.1777 - accuracy: 0.9771\n",
      "Epoch 92/150\n",
      "9897/9897 [==============================] - 0s 19us/step - loss: 0.1383 - accuracy: 0.9759\n",
      "Epoch 93/150\n",
      "9897/9897 [==============================] - 0s 20us/step - loss: 0.1293 - accuracy: 0.9779\n",
      "Epoch 94/150\n",
      "9897/9897 [==============================] - 0s 19us/step - loss: 0.2356 - accuracy: 0.9710\n",
      "Epoch 95/150\n",
      "9897/9897 [==============================] - 0s 19us/step - loss: 0.2620 - accuracy: 0.9770\n",
      "Epoch 96/150\n",
      "9897/9897 [==============================] - 0s 21us/step - loss: 0.1569 - accuracy: 0.9722\n",
      "Epoch 97/150\n",
      "9897/9897 [==============================] - 0s 19us/step - loss: 0.1422 - accuracy: 0.9717\n",
      "Epoch 98/150\n",
      "9897/9897 [==============================] - 0s 19us/step - loss: 0.1794 - accuracy: 0.9819\n",
      "Epoch 99/150\n",
      "9897/9897 [==============================] - 0s 19us/step - loss: 0.1335 - accuracy: 0.9743\n",
      "Epoch 100/150\n",
      "9897/9897 [==============================] - 0s 19us/step - loss: 0.1851 - accuracy: 0.9670\n",
      "Epoch 101/150\n",
      "9897/9897 [==============================] - 0s 19us/step - loss: 0.1710 - accuracy: 0.9724\n",
      "Epoch 102/150\n",
      "9897/9897 [==============================] - 0s 19us/step - loss: 0.1405 - accuracy: 0.9770\n",
      "Epoch 103/150\n",
      "9897/9897 [==============================] - 0s 19us/step - loss: 0.2019 - accuracy: 0.9784\n",
      "Epoch 104/150\n",
      "9897/9897 [==============================] - 0s 21us/step - loss: 0.2084 - accuracy: 0.9739\n",
      "Epoch 105/150\n",
      "9897/9897 [==============================] - 0s 19us/step - loss: 0.1383 - accuracy: 0.9790\n",
      "Epoch 106/150\n",
      "9897/9897 [==============================] - 0s 19us/step - loss: 0.1272 - accuracy: 0.9787\n",
      "Epoch 107/150\n",
      "9897/9897 [==============================] - 0s 20us/step - loss: 0.1315 - accuracy: 0.9753\n",
      "Epoch 108/150\n",
      "9897/9897 [==============================] - 0s 19us/step - loss: 0.1365 - accuracy: 0.9781\n",
      "Epoch 109/150\n",
      "9897/9897 [==============================] - 0s 19us/step - loss: 0.1690 - accuracy: 0.9791\n",
      "Epoch 110/150\n",
      "9897/9897 [==============================] - 0s 19us/step - loss: 0.1417 - accuracy: 0.9786\n",
      "Epoch 111/150\n",
      "9897/9897 [==============================] - 0s 22us/step - loss: 0.1861 - accuracy: 0.9786\n",
      "Epoch 112/150\n",
      "9897/9897 [==============================] - 0s 20us/step - loss: 0.1250 - accuracy: 0.9806\n",
      "Epoch 113/150\n",
      "9897/9897 [==============================] - 0s 19us/step - loss: 0.1659 - accuracy: 0.9800\n",
      "Epoch 114/150\n",
      "9897/9897 [==============================] - 0s 22us/step - loss: 0.1618 - accuracy: 0.9793\n",
      "Epoch 115/150\n",
      "9897/9897 [==============================] - 0s 21us/step - loss: 0.1304 - accuracy: 0.9799\n",
      "Epoch 116/150\n",
      "9897/9897 [==============================] - 0s 22us/step - loss: 0.1260 - accuracy: 0.9798\n",
      "Epoch 117/150\n",
      "9897/9897 [==============================] - 0s 20us/step - loss: 0.2172 - accuracy: 0.9797\n",
      "Epoch 118/150\n",
      "9897/9897 [==============================] - 0s 20us/step - loss: 0.1384 - accuracy: 0.9811\n",
      "Epoch 119/150\n",
      "9897/9897 [==============================] - 0s 22us/step - loss: 0.1286 - accuracy: 0.9792\n",
      "Epoch 120/150\n",
      "9897/9897 [==============================] - 0s 18us/step - loss: 0.1461 - accuracy: 0.9798\n",
      "Epoch 121/150\n",
      "9897/9897 [==============================] - 0s 24us/step - loss: 0.2347 - accuracy: 0.9814\n",
      "Epoch 122/150\n",
      "9897/9897 [==============================] - 0s 19us/step - loss: 0.1832 - accuracy: 0.9802\n",
      "Epoch 123/150\n",
      "9897/9897 [==============================] - 0s 27us/step - loss: 0.3060 - accuracy: 0.9824\n",
      "Epoch 124/150\n",
      "9897/9897 [==============================] - 0s 21us/step - loss: 0.2605 - accuracy: 0.9820\n",
      "Epoch 125/150\n",
      "9897/9897 [==============================] - 0s 25us/step - loss: 0.1387 - accuracy: 0.9801\n",
      "Epoch 126/150\n",
      "9897/9897 [==============================] - ETA: 0s - loss: 0.1466 - accuracy: 0.97 - 0s 23us/step - loss: 0.1487 - accuracy: 0.9789\n",
      "Epoch 127/150\n",
      "9897/9897 [==============================] - 0s 27us/step - loss: 0.1216 - accuracy: 0.9804\n",
      "Epoch 128/150\n",
      "9897/9897 [==============================] - 0s 21us/step - loss: 0.1264 - accuracy: 0.9801\n",
      "Epoch 129/150\n",
      "9897/9897 [==============================] - 0s 21us/step - loss: 0.1214 - accuracy: 0.9786\n",
      "Epoch 130/150\n",
      "9897/9897 [==============================] - 0s 22us/step - loss: 0.1424 - accuracy: 0.9822\n",
      "Epoch 131/150\n",
      "9897/9897 [==============================] - 0s 21us/step - loss: 0.1293 - accuracy: 0.9815\n",
      "Epoch 132/150\n",
      "9897/9897 [==============================] - 0s 23us/step - loss: 0.1163 - accuracy: 0.9788\n",
      "Epoch 133/150\n",
      "9897/9897 [==============================] - 0s 21us/step - loss: 0.1224 - accuracy: 0.9793\n",
      "Epoch 134/150\n",
      "9897/9897 [==============================] - 0s 23us/step - loss: 0.1637 - accuracy: 0.9799\n",
      "Epoch 135/150\n",
      "9897/9897 [==============================] - 0s 21us/step - loss: 0.1360 - accuracy: 0.9795 0s - loss: 0.1310 - accuracy: 0.\n",
      "Epoch 136/150\n",
      "9897/9897 [==============================] - 0s 20us/step - loss: 0.1201 - accuracy: 0.9801\n",
      "Epoch 137/150\n",
      "9897/9897 [==============================] - 0s 21us/step - loss: 0.1155 - accuracy: 0.9792\n",
      "Epoch 138/150\n",
      "9897/9897 [==============================] - 0s 20us/step - loss: 0.1191 - accuracy: 0.9811\n",
      "Epoch 139/150\n",
      "9897/9897 [==============================] - 0s 29us/step - loss: 0.1211 - accuracy: 0.9797\n",
      "Epoch 140/150\n",
      "9897/9897 [==============================] - 0s 20us/step - loss: 0.1401 - accuracy: 0.9809\n",
      "Epoch 141/150\n",
      "9897/9897 [==============================] - 0s 20us/step - loss: 0.1488 - accuracy: 0.9803\n",
      "Epoch 142/150\n",
      "9897/9897 [==============================] - 0s 20us/step - loss: 0.1506 - accuracy: 0.9807\n",
      "Epoch 143/150\n",
      "9897/9897 [==============================] - 0s 19us/step - loss: 0.1324 - accuracy: 0.9816\n",
      "Epoch 144/150\n",
      "9897/9897 [==============================] - 0s 21us/step - loss: 0.1297 - accuracy: 0.9789\n",
      "Epoch 145/150\n",
      "9897/9897 [==============================] - 0s 20us/step - loss: 0.1438 - accuracy: 0.9785\n",
      "Epoch 146/150\n",
      "9897/9897 [==============================] - 0s 21us/step - loss: 0.1782 - accuracy: 0.9830\n",
      "Epoch 147/150\n",
      "9897/9897 [==============================] - 0s 21us/step - loss: 0.1616 - accuracy: 0.9816\n",
      "Epoch 148/150\n",
      "9897/9897 [==============================] - 0s 22us/step - loss: 0.3064 - accuracy: 0.9840\n",
      "Epoch 149/150\n",
      "9897/9897 [==============================] - 0s 20us/step - loss: 0.1160 - accuracy: 0.9818\n",
      "Epoch 150/150\n",
      "9897/9897 [==============================] - 0s 20us/step - loss: 0.1063 - accuracy: 0.9814\n",
      "9897/9897 [==============================] - 0s 29us/step\n"
     ]
    }
   ],
   "source": [
    "model.fit(X, y, epochs=150, batch_size=100)\n",
    "accuracy = model.evaluate(X, y)"
   ]
  },
  {
   "cell_type": "code",
   "execution_count": 55,
   "metadata": {},
   "outputs": [
    {
     "name": "stdout",
     "output_type": "stream",
     "text": [
      "Accuracy: [0.11780015372280063, 0.9832272529602051, 0.11780015372280063, 0.9832272529602051, 0.11780015372280063, 0.9832272529602051, 0.11780015372280063, 0.9832272529602051, 0.11780015372280063, 0.9832272529602051, 0.11780015372280063, 0.9832272529602051, 0.11780015372280063, 0.9832272529602051, 0.11780015372280063, 0.9832272529602051, 0.11780015372280063, 0.9832272529602051, 0.11780015372280063, 0.9832272529602051, 0.11780015372280063, 0.9832272529602051, 0.11780015372280063, 0.9832272529602051, 0.11780015372280063, 0.9832272529602051, 0.11780015372280063, 0.9832272529602051, 0.11780015372280063, 0.9832272529602051, 0.11780015372280063, 0.9832272529602051, 0.11780015372280063, 0.9832272529602051, 0.11780015372280063, 0.9832272529602051, 0.11780015372280063, 0.9832272529602051, 0.11780015372280063, 0.9832272529602051, 0.11780015372280063, 0.9832272529602051, 0.11780015372280063, 0.9832272529602051, 0.11780015372280063, 0.9832272529602051, 0.11780015372280063, 0.9832272529602051, 0.11780015372280063, 0.9832272529602051, 0.11780015372280063, 0.9832272529602051, 0.11780015372280063, 0.9832272529602051, 0.11780015372280063, 0.9832272529602051, 0.11780015372280063, 0.9832272529602051, 0.11780015372280063, 0.9832272529602051, 0.11780015372280063, 0.9832272529602051, 0.11780015372280063, 0.9832272529602051, 0.11780015372280063, 0.9832272529602051, 0.11780015372280063, 0.9832272529602051, 0.11780015372280063, 0.9832272529602051, 0.11780015372280063, 0.9832272529602051, 0.11780015372280063, 0.9832272529602051, 0.11780015372280063, 0.9832272529602051, 0.11780015372280063, 0.9832272529602051, 0.11780015372280063, 0.9832272529602051, 0.11780015372280063, 0.9832272529602051, 0.11780015372280063, 0.9832272529602051, 0.11780015372280063, 0.9832272529602051, 0.11780015372280063, 0.9832272529602051, 0.11780015372280063, 0.9832272529602051, 0.11780015372280063, 0.9832272529602051, 0.11780015372280063, 0.9832272529602051, 0.11780015372280063, 0.9832272529602051, 0.11780015372280063, 0.9832272529602051, 0.11780015372280063, 0.9832272529602051, 0.11780015372280063, 0.9832272529602051, 0.11780015372280063, 0.9832272529602051, 0.11780015372280063, 0.9832272529602051, 0.11780015372280063, 0.9832272529602051, 0.11780015372280063, 0.9832272529602051, 0.11780015372280063, 0.9832272529602051, 0.11780015372280063, 0.9832272529602051, 0.11780015372280063, 0.9832272529602051, 0.11780015372280063, 0.9832272529602051, 0.11780015372280063, 0.9832272529602051, 0.11780015372280063, 0.9832272529602051, 0.11780015372280063, 0.9832272529602051, 0.11780015372280063, 0.9832272529602051, 0.11780015372280063, 0.9832272529602051, 0.11780015372280063, 0.9832272529602051, 0.11780015372280063, 0.9832272529602051, 0.11780015372280063, 0.9832272529602051, 0.11780015372280063, 0.9832272529602051, 0.11780015372280063, 0.9832272529602051, 0.11780015372280063, 0.9832272529602051, 0.11780015372280063, 0.9832272529602051, 0.11780015372280063, 0.9832272529602051, 0.11780015372280063, 0.9832272529602051, 0.11780015372280063, 0.9832272529602051, 0.11780015372280063, 0.9832272529602051, 0.11780015372280063, 0.9832272529602051, 0.11780015372280063, 0.9832272529602051, 0.11780015372280063, 0.9832272529602051, 0.11780015372280063, 0.9832272529602051, 0.11780015372280063, 0.9832272529602051, 0.11780015372280063, 0.9832272529602051, 0.11780015372280063, 0.9832272529602051, 0.11780015372280063, 0.9832272529602051, 0.11780015372280063, 0.9832272529602051, 0.11780015372280063, 0.9832272529602051, 0.11780015372280063, 0.9832272529602051, 0.11780015372280063, 0.9832272529602051, 0.11780015372280063, 0.9832272529602051, 0.11780015372280063, 0.9832272529602051, 0.11780015372280063, 0.9832272529602051, 0.11780015372280063, 0.9832272529602051, 0.11780015372280063, 0.9832272529602051, 0.11780015372280063, 0.9832272529602051, 0.11780015372280063, 0.9832272529602051, 0.11780015372280063, 0.9832272529602051, 0.11780015372280063, 0.9832272529602051, 0.11780015372280063, 0.9832272529602051, 0.11780015372280063, 0.9832272529602051, 0.11780015372280063, 0.9832272529602051, 0.11780015372280063, 0.9832272529602051]\n"
     ]
    }
   ],
   "source": [
    "print('Accuracy: %2s' % (accuracy*100))"
   ]
  },
  {
   "cell_type": "code",
   "execution_count": 56,
   "metadata": {},
   "outputs": [],
   "source": [
    "predictions = model.predict_classes(X)"
   ]
  },
  {
   "cell_type": "code",
   "execution_count": 57,
   "metadata": {},
   "outputs": [
    {
     "ename": "IndentationError",
     "evalue": "expected an indented block (<ipython-input-57-1ded9f571c82>, line 2)",
     "output_type": "error",
     "traceback": [
      "\u001b[1;36m  File \u001b[1;32m\"<ipython-input-57-1ded9f571c82>\"\u001b[1;36m, line \u001b[1;32m2\u001b[0m\n\u001b[1;33m    print('%s => %d (expected %d)' % (X[i].tolist(), predictions[i], y[i]))\u001b[0m\n\u001b[1;37m        ^\u001b[0m\n\u001b[1;31mIndentationError\u001b[0m\u001b[1;31m:\u001b[0m expected an indented block\n"
     ]
    }
   ],
   "source": [
    "for i in range(5):\n",
    "print('%s => %d (expected %d)' % (X[i].tolist(), predictions[i], y[i]))"
   ]
  },
  {
   "cell_type": "code",
   "execution_count": 59,
   "metadata": {},
   "outputs": [
    {
     "data": {
      "text/plain": [
       "array([[1],\n",
       "       [0],\n",
       "       [0],\n",
       "       ...,\n",
       "       [0],\n",
       "       [1],\n",
       "       [1]])"
      ]
     },
     "execution_count": 59,
     "metadata": {},
     "output_type": "execute_result"
    }
   ],
   "source": [
    "predictions"
   ]
  },
  {
   "cell_type": "code",
   "execution_count": 60,
   "metadata": {},
   "outputs": [],
   "source": [
    "yhat = model.predict(X)"
   ]
  },
  {
   "cell_type": "code",
   "execution_count": 61,
   "metadata": {},
   "outputs": [
    {
     "data": {
      "text/plain": [
       "array([[8.2100952e-01],\n",
       "       [3.9967337e-33],\n",
       "       [2.0543866e-32],\n",
       "       ...,\n",
       "       [1.6264349e-01],\n",
       "       [6.5652859e-01],\n",
       "       [6.4413947e-01]], dtype=float32)"
      ]
     },
     "execution_count": 61,
     "metadata": {},
     "output_type": "execute_result"
    }
   ],
   "source": [
    "yhat"
   ]
  },
  {
   "cell_type": "code",
   "execution_count": 2,
   "metadata": {},
   "outputs": [
    {
     "ename": "NameError",
     "evalue": "name 'np' is not defined",
     "output_type": "error",
     "traceback": [
      "\u001b[1;31m---------------------------------------------------------------------------\u001b[0m",
      "\u001b[1;31mNameError\u001b[0m                                 Traceback (most recent call last)",
      "\u001b[1;32m<ipython-input-2-9400daee1887>\u001b[0m in \u001b[0;36m<module>\u001b[1;34m\u001b[0m\n\u001b[1;32m----> 1\u001b[1;33m \u001b[0mbot_feature\u001b[0m \u001b[1;33m=\u001b[0m \u001b[0mnp\u001b[0m\u001b[1;33m.\u001b[0m\u001b[0marray\u001b[0m\u001b[1;33m(\u001b[0m\u001b[0mbot_feature\u001b[0m\u001b[1;33m)\u001b[0m\u001b[1;33m\u001b[0m\u001b[1;33m\u001b[0m\u001b[0m\n\u001b[0m\u001b[0;32m      2\u001b[0m \u001b[0mbot_feature\u001b[0m\u001b[1;33m\u001b[0m\u001b[1;33m\u001b[0m\u001b[0m\n",
      "\u001b[1;31mNameError\u001b[0m: name 'np' is not defined"
     ]
    }
   ],
   "source": [
    "bot_feature = np.array(bot_feature)\n",
    "bot_feature"
   ]
  },
  {
   "cell_type": "code",
   "execution_count": 1,
   "metadata": {},
   "outputs": [
    {
     "ename": "ModuleNotFoundError",
     "evalue": "No module named 'keras'",
     "output_type": "error",
     "traceback": [
      "\u001b[1;31m---------------------------------------------------------------------------\u001b[0m",
      "\u001b[1;31mModuleNotFoundError\u001b[0m                       Traceback (most recent call last)",
      "\u001b[1;32m<ipython-input-1-60e272704458>\u001b[0m in \u001b[0;36m<module>\u001b[1;34m\u001b[0m\n\u001b[0;32m      1\u001b[0m \u001b[1;32mfrom\u001b[0m \u001b[0mnumpy\u001b[0m \u001b[1;32mimport\u001b[0m \u001b[0mloadtxt\u001b[0m\u001b[1;33m\u001b[0m\u001b[1;33m\u001b[0m\u001b[0m\n\u001b[1;32m----> 2\u001b[1;33m \u001b[1;32mfrom\u001b[0m \u001b[0mkeras\u001b[0m\u001b[1;33m.\u001b[0m\u001b[0mmodels\u001b[0m \u001b[1;32mimport\u001b[0m \u001b[0mSequential\u001b[0m\u001b[1;33m\u001b[0m\u001b[1;33m\u001b[0m\u001b[0m\n\u001b[0m\u001b[0;32m      3\u001b[0m \u001b[1;32mfrom\u001b[0m \u001b[0mkeras\u001b[0m\u001b[1;33m.\u001b[0m\u001b[0mlayers\u001b[0m \u001b[1;32mimport\u001b[0m \u001b[0mDense\u001b[0m\u001b[1;33m\u001b[0m\u001b[1;33m\u001b[0m\u001b[0m\n\u001b[0;32m      4\u001b[0m \u001b[1;32mimport\u001b[0m \u001b[0mpandas\u001b[0m \u001b[1;32mas\u001b[0m \u001b[0mpd\u001b[0m\u001b[1;33m\u001b[0m\u001b[1;33m\u001b[0m\u001b[0m\n\u001b[0;32m      5\u001b[0m \u001b[1;32mimport\u001b[0m \u001b[0mnumpy\u001b[0m \u001b[1;32mas\u001b[0m \u001b[0mnp\u001b[0m\u001b[1;33m\u001b[0m\u001b[1;33m\u001b[0m\u001b[0m\n",
      "\u001b[1;31mModuleNotFoundError\u001b[0m: No module named 'keras'"
     ]
    }
   ],
   "source": [
    "from numpy import loadtxt\n",
    "from keras.models import Sequential\n",
    "from keras.layers import Dense\n",
    "import pandas as pd\n",
    "import numpy as np\n",
    "bot_df = pd.read_csv(\"PLDeepLearnCTU13_10K - ClosenessCentrality.csv\")\n",
    "bot_df.head()\n",
    "bot_feature = bot_df.copy()\n",
    "bot_labels = bot_feature.pop('Lbls')\n",
    "bot_feature = np.array(bot_feature)\n",
    "bot_feature"
   ]
  },
  {
   "cell_type": "code",
   "execution_count": 1,
   "metadata": {},
   "outputs": [
    {
     "name": "stderr",
     "output_type": "stream",
     "text": [
      "Using TensorFlow backend.\n"
     ]
    }
   ],
   "source": [
    "from numpy import loadtxt\n",
    "from keras.models import Sequential\n",
    "from keras.layers import Dense\n",
    "import pandas as pd\n",
    "import numpy as np"
   ]
  },
  {
   "cell_type": "code",
   "execution_count": 2,
   "metadata": {},
   "outputs": [
    {
     "data": {
      "text/html": [
       "<div>\n",
       "<style scoped>\n",
       "    .dataframe tbody tr th:only-of-type {\n",
       "        vertical-align: middle;\n",
       "    }\n",
       "\n",
       "    .dataframe tbody tr th {\n",
       "        vertical-align: top;\n",
       "    }\n",
       "\n",
       "    .dataframe thead th {\n",
       "        text-align: right;\n",
       "    }\n",
       "</style>\n",
       "<table border=\"1\" class=\"dataframe\">\n",
       "  <thead>\n",
       "    <tr style=\"text-align: right;\">\n",
       "      <th></th>\n",
       "      <th>Time</th>\n",
       "      <th>TimeHr</th>\n",
       "      <th>TimeMnt</th>\n",
       "      <th>TimeSec</th>\n",
       "      <th>SourceIPCatg</th>\n",
       "      <th>Src Port</th>\n",
       "      <th>DSTPortCatg</th>\n",
       "      <th>ProtocolCatg</th>\n",
       "      <th>HSTYP</th>\n",
       "      <th>Length</th>\n",
       "      <th>Lbls</th>\n",
       "    </tr>\n",
       "  </thead>\n",
       "  <tbody>\n",
       "    <tr>\n",
       "      <th>0</th>\n",
       "      <td>11:48.7</td>\n",
       "      <td>14</td>\n",
       "      <td>11</td>\n",
       "      <td>49</td>\n",
       "      <td>67</td>\n",
       "      <td>NaN</td>\n",
       "      <td>NaN</td>\n",
       "      <td>65</td>\n",
       "      <td>NaN</td>\n",
       "      <td>60</td>\n",
       "      <td>BENIGN</td>\n",
       "    </tr>\n",
       "    <tr>\n",
       "      <th>1</th>\n",
       "      <td>11:50.7</td>\n",
       "      <td>14</td>\n",
       "      <td>11</td>\n",
       "      <td>51</td>\n",
       "      <td>67</td>\n",
       "      <td>NaN</td>\n",
       "      <td>NaN</td>\n",
       "      <td>65</td>\n",
       "      <td>NaN</td>\n",
       "      <td>60</td>\n",
       "      <td>BENIGN</td>\n",
       "    </tr>\n",
       "    <tr>\n",
       "      <th>2</th>\n",
       "      <td>11:53.9</td>\n",
       "      <td>14</td>\n",
       "      <td>11</td>\n",
       "      <td>54</td>\n",
       "      <td>67</td>\n",
       "      <td>NaN</td>\n",
       "      <td>NaN</td>\n",
       "      <td>65</td>\n",
       "      <td>NaN</td>\n",
       "      <td>60</td>\n",
       "      <td>BENIGN</td>\n",
       "    </tr>\n",
       "    <tr>\n",
       "      <th>3</th>\n",
       "      <td>11:58.3</td>\n",
       "      <td>14</td>\n",
       "      <td>11</td>\n",
       "      <td>58</td>\n",
       "      <td>67</td>\n",
       "      <td>NaN</td>\n",
       "      <td>NaN</td>\n",
       "      <td>65</td>\n",
       "      <td>NaN</td>\n",
       "      <td>60</td>\n",
       "      <td>BENIGN</td>\n",
       "    </tr>\n",
       "    <tr>\n",
       "      <th>4</th>\n",
       "      <td>12:00.5</td>\n",
       "      <td>14</td>\n",
       "      <td>12</td>\n",
       "      <td>0</td>\n",
       "      <td>67</td>\n",
       "      <td>NaN</td>\n",
       "      <td>NaN</td>\n",
       "      <td>65</td>\n",
       "      <td>NaN</td>\n",
       "      <td>60</td>\n",
       "      <td>BENIGN</td>\n",
       "    </tr>\n",
       "  </tbody>\n",
       "</table>\n",
       "</div>"
      ],
      "text/plain": [
       "      Time  TimeHr  TimeMnt  TimeSec  SourceIPCatg  Src Port  DSTPortCatg  \\\n",
       "0  11:48.7      14       11       49            67       NaN          NaN   \n",
       "1  11:50.7      14       11       51            67       NaN          NaN   \n",
       "2  11:53.9      14       11       54            67       NaN          NaN   \n",
       "3  11:58.3      14       11       58            67       NaN          NaN   \n",
       "4  12:00.5      14       12        0            67       NaN          NaN   \n",
       "\n",
       "   ProtocolCatg  HSTYP  Length    Lbls  \n",
       "0            65    NaN      60  BENIGN  \n",
       "1            65    NaN      60  BENIGN  \n",
       "2            65    NaN      60  BENIGN  \n",
       "3            65    NaN      60  BENIGN  \n",
       "4            65    NaN      60  BENIGN  "
      ]
     },
     "execution_count": 2,
     "metadata": {},
     "output_type": "execute_result"
    }
   ],
   "source": [
    "bot_df = pd.read_csv(\"FinalizedFullSet.csv\")\n",
    "bot_df.head()"
   ]
  },
  {
   "cell_type": "code",
   "execution_count": 3,
   "metadata": {},
   "outputs": [
    {
     "data": {
      "text/plain": [
       "array([['11:48.7', 14, 11, ..., 65, nan, 60],\n",
       "       ['11:50.7', 14, 11, ..., 65, nan, 60],\n",
       "       ['11:53.9', 14, 11, ..., 65, nan, 60],\n",
       "       ...,\n",
       "       ['15:31.6', 15, 15, ..., 85, nan, 99],\n",
       "       ['15:32.0', 15, 15, ..., 85, nan, 99],\n",
       "       ['15:32.2', 15, 15, ..., 85, nan, 143]], dtype=object)"
      ]
     },
     "execution_count": 3,
     "metadata": {},
     "output_type": "execute_result"
    }
   ],
   "source": [
    "bot_feature = bot_df.copy()\n",
    "bot_labels = bot_feature.pop('Lbls')\n",
    "bot_feature = np.array(bot_feature)\n",
    "bot_feature"
   ]
  },
  {
   "cell_type": "code",
   "execution_count": 4,
   "metadata": {},
   "outputs": [],
   "source": [
    "X = bot_feature[:,0:9]\n",
    "y = bot_feature[:,9]"
   ]
  },
  {
   "cell_type": "code",
   "execution_count": 5,
   "metadata": {},
   "outputs": [],
   "source": [
    "model = Sequential()\n",
    "model.add(Dense(12, input_dim=11, activation='relu'))"
   ]
  },
  {
   "cell_type": "code",
   "execution_count": 6,
   "metadata": {},
   "outputs": [],
   "source": [
    "model.add(Dense(8, activation='relu'))\n",
    "model.add(Dense(1, activation='sigmoid'))"
   ]
  },
  {
   "cell_type": "code",
   "execution_count": 7,
   "metadata": {},
   "outputs": [],
   "source": [
    "model.compile(loss='binary_crossentropy', optimizer='adam', metrics=['accuracy'])"
   ]
  },
  {
   "cell_type": "code",
   "execution_count": 8,
   "metadata": {},
   "outputs": [
    {
     "ename": "ValueError",
     "evalue": "Error when checking input: expected dense_1_input to have shape (11,) but got array with shape (9,)",
     "output_type": "error",
     "traceback": [
      "\u001b[1;31m---------------------------------------------------------------------------\u001b[0m",
      "\u001b[1;31mValueError\u001b[0m                                Traceback (most recent call last)",
      "\u001b[1;32m<ipython-input-8-86208419c278>\u001b[0m in \u001b[0;36m<module>\u001b[1;34m\u001b[0m\n\u001b[1;32m----> 1\u001b[1;33m \u001b[0mmodel\u001b[0m\u001b[1;33m.\u001b[0m\u001b[0mfit\u001b[0m\u001b[1;33m(\u001b[0m\u001b[0mX\u001b[0m\u001b[1;33m,\u001b[0m \u001b[0my\u001b[0m\u001b[1;33m,\u001b[0m \u001b[0mepochs\u001b[0m\u001b[1;33m=\u001b[0m\u001b[1;36m150\u001b[0m\u001b[1;33m,\u001b[0m \u001b[0mbatch_size\u001b[0m\u001b[1;33m=\u001b[0m\u001b[1;36m100\u001b[0m\u001b[1;33m)\u001b[0m\u001b[1;33m\u001b[0m\u001b[1;33m\u001b[0m\u001b[0m\n\u001b[0m\u001b[0;32m      2\u001b[0m \u001b[0maccuracy\u001b[0m \u001b[1;33m=\u001b[0m \u001b[0mmodel\u001b[0m\u001b[1;33m.\u001b[0m\u001b[0mevaluate\u001b[0m\u001b[1;33m(\u001b[0m\u001b[0mX\u001b[0m\u001b[1;33m,\u001b[0m \u001b[0my\u001b[0m\u001b[1;33m)\u001b[0m\u001b[1;33m\u001b[0m\u001b[1;33m\u001b[0m\u001b[0m\n",
      "\u001b[1;32m~\\.conda\\envs\\tesnsorflow\\lib\\site-packages\\keras\\engine\\training.py\u001b[0m in \u001b[0;36mfit\u001b[1;34m(self, x, y, batch_size, epochs, verbose, callbacks, validation_split, validation_data, shuffle, class_weight, sample_weight, initial_epoch, steps_per_epoch, validation_steps, validation_freq, max_queue_size, workers, use_multiprocessing, **kwargs)\u001b[0m\n\u001b[0;32m   1152\u001b[0m             \u001b[0msample_weight\u001b[0m\u001b[1;33m=\u001b[0m\u001b[0msample_weight\u001b[0m\u001b[1;33m,\u001b[0m\u001b[1;33m\u001b[0m\u001b[1;33m\u001b[0m\u001b[0m\n\u001b[0;32m   1153\u001b[0m             \u001b[0mclass_weight\u001b[0m\u001b[1;33m=\u001b[0m\u001b[0mclass_weight\u001b[0m\u001b[1;33m,\u001b[0m\u001b[1;33m\u001b[0m\u001b[1;33m\u001b[0m\u001b[0m\n\u001b[1;32m-> 1154\u001b[1;33m             batch_size=batch_size)\n\u001b[0m\u001b[0;32m   1155\u001b[0m \u001b[1;33m\u001b[0m\u001b[0m\n\u001b[0;32m   1156\u001b[0m         \u001b[1;31m# Prepare validation data.\u001b[0m\u001b[1;33m\u001b[0m\u001b[1;33m\u001b[0m\u001b[1;33m\u001b[0m\u001b[0m\n",
      "\u001b[1;32m~\\.conda\\envs\\tesnsorflow\\lib\\site-packages\\keras\\engine\\training.py\u001b[0m in \u001b[0;36m_standardize_user_data\u001b[1;34m(self, x, y, sample_weight, class_weight, check_array_lengths, batch_size)\u001b[0m\n\u001b[0;32m    577\u001b[0m             \u001b[0mfeed_input_shapes\u001b[0m\u001b[1;33m,\u001b[0m\u001b[1;33m\u001b[0m\u001b[1;33m\u001b[0m\u001b[0m\n\u001b[0;32m    578\u001b[0m             \u001b[0mcheck_batch_axis\u001b[0m\u001b[1;33m=\u001b[0m\u001b[1;32mFalse\u001b[0m\u001b[1;33m,\u001b[0m  \u001b[1;31m# Don't enforce the batch size.\u001b[0m\u001b[1;33m\u001b[0m\u001b[1;33m\u001b[0m\u001b[0m\n\u001b[1;32m--> 579\u001b[1;33m             exception_prefix='input')\n\u001b[0m\u001b[0;32m    580\u001b[0m \u001b[1;33m\u001b[0m\u001b[0m\n\u001b[0;32m    581\u001b[0m         \u001b[1;32mif\u001b[0m \u001b[0my\u001b[0m \u001b[1;32mis\u001b[0m \u001b[1;32mnot\u001b[0m \u001b[1;32mNone\u001b[0m\u001b[1;33m:\u001b[0m\u001b[1;33m\u001b[0m\u001b[1;33m\u001b[0m\u001b[0m\n",
      "\u001b[1;32m~\\.conda\\envs\\tesnsorflow\\lib\\site-packages\\keras\\engine\\training_utils.py\u001b[0m in \u001b[0;36mstandardize_input_data\u001b[1;34m(data, names, shapes, check_batch_axis, exception_prefix)\u001b[0m\n\u001b[0;32m    143\u001b[0m                             \u001b[1;34m': expected '\u001b[0m \u001b[1;33m+\u001b[0m \u001b[0mnames\u001b[0m\u001b[1;33m[\u001b[0m\u001b[0mi\u001b[0m\u001b[1;33m]\u001b[0m \u001b[1;33m+\u001b[0m \u001b[1;34m' to have shape '\u001b[0m \u001b[1;33m+\u001b[0m\u001b[1;33m\u001b[0m\u001b[1;33m\u001b[0m\u001b[0m\n\u001b[0;32m    144\u001b[0m                             \u001b[0mstr\u001b[0m\u001b[1;33m(\u001b[0m\u001b[0mshape\u001b[0m\u001b[1;33m)\u001b[0m \u001b[1;33m+\u001b[0m \u001b[1;34m' but got array with shape '\u001b[0m \u001b[1;33m+\u001b[0m\u001b[1;33m\u001b[0m\u001b[1;33m\u001b[0m\u001b[0m\n\u001b[1;32m--> 145\u001b[1;33m                             str(data_shape))\n\u001b[0m\u001b[0;32m    146\u001b[0m     \u001b[1;32mreturn\u001b[0m \u001b[0mdata\u001b[0m\u001b[1;33m\u001b[0m\u001b[1;33m\u001b[0m\u001b[0m\n\u001b[0;32m    147\u001b[0m \u001b[1;33m\u001b[0m\u001b[0m\n",
      "\u001b[1;31mValueError\u001b[0m: Error when checking input: expected dense_1_input to have shape (11,) but got array with shape (9,)"
     ]
    }
   ],
   "source": [
    "model.fit(X, y, epochs=150, batch_size=100)\n",
    "accuracy = model.evaluate(X, y)"
   ]
  },
  {
   "cell_type": "code",
   "execution_count": 9,
   "metadata": {},
   "outputs": [
    {
     "ename": "ValueError",
     "evalue": "Error when checking input: expected dense_1_input to have shape (11,) but got array with shape (9,)",
     "output_type": "error",
     "traceback": [
      "\u001b[1;31m---------------------------------------------------------------------------\u001b[0m",
      "\u001b[1;31mValueError\u001b[0m                                Traceback (most recent call last)",
      "\u001b[1;32m<ipython-input-9-910cf18e14b3>\u001b[0m in \u001b[0;36m<module>\u001b[1;34m\u001b[0m\n\u001b[1;32m----> 1\u001b[1;33m \u001b[0mmodel\u001b[0m\u001b[1;33m.\u001b[0m\u001b[0mfit\u001b[0m\u001b[1;33m(\u001b[0m\u001b[0mX\u001b[0m\u001b[1;33m,\u001b[0m \u001b[0my\u001b[0m\u001b[1;33m,\u001b[0m \u001b[0mepochs\u001b[0m\u001b[1;33m=\u001b[0m\u001b[1;36m150\u001b[0m\u001b[1;33m,\u001b[0m \u001b[0mbatch_size\u001b[0m\u001b[1;33m=\u001b[0m\u001b[1;36m100\u001b[0m\u001b[1;33m)\u001b[0m\u001b[1;33m\u001b[0m\u001b[1;33m\u001b[0m\u001b[0m\n\u001b[0m",
      "\u001b[1;32m~\\.conda\\envs\\tesnsorflow\\lib\\site-packages\\keras\\engine\\training.py\u001b[0m in \u001b[0;36mfit\u001b[1;34m(self, x, y, batch_size, epochs, verbose, callbacks, validation_split, validation_data, shuffle, class_weight, sample_weight, initial_epoch, steps_per_epoch, validation_steps, validation_freq, max_queue_size, workers, use_multiprocessing, **kwargs)\u001b[0m\n\u001b[0;32m   1152\u001b[0m             \u001b[0msample_weight\u001b[0m\u001b[1;33m=\u001b[0m\u001b[0msample_weight\u001b[0m\u001b[1;33m,\u001b[0m\u001b[1;33m\u001b[0m\u001b[1;33m\u001b[0m\u001b[0m\n\u001b[0;32m   1153\u001b[0m             \u001b[0mclass_weight\u001b[0m\u001b[1;33m=\u001b[0m\u001b[0mclass_weight\u001b[0m\u001b[1;33m,\u001b[0m\u001b[1;33m\u001b[0m\u001b[1;33m\u001b[0m\u001b[0m\n\u001b[1;32m-> 1154\u001b[1;33m             batch_size=batch_size)\n\u001b[0m\u001b[0;32m   1155\u001b[0m \u001b[1;33m\u001b[0m\u001b[0m\n\u001b[0;32m   1156\u001b[0m         \u001b[1;31m# Prepare validation data.\u001b[0m\u001b[1;33m\u001b[0m\u001b[1;33m\u001b[0m\u001b[1;33m\u001b[0m\u001b[0m\n",
      "\u001b[1;32m~\\.conda\\envs\\tesnsorflow\\lib\\site-packages\\keras\\engine\\training.py\u001b[0m in \u001b[0;36m_standardize_user_data\u001b[1;34m(self, x, y, sample_weight, class_weight, check_array_lengths, batch_size)\u001b[0m\n\u001b[0;32m    577\u001b[0m             \u001b[0mfeed_input_shapes\u001b[0m\u001b[1;33m,\u001b[0m\u001b[1;33m\u001b[0m\u001b[1;33m\u001b[0m\u001b[0m\n\u001b[0;32m    578\u001b[0m             \u001b[0mcheck_batch_axis\u001b[0m\u001b[1;33m=\u001b[0m\u001b[1;32mFalse\u001b[0m\u001b[1;33m,\u001b[0m  \u001b[1;31m# Don't enforce the batch size.\u001b[0m\u001b[1;33m\u001b[0m\u001b[1;33m\u001b[0m\u001b[0m\n\u001b[1;32m--> 579\u001b[1;33m             exception_prefix='input')\n\u001b[0m\u001b[0;32m    580\u001b[0m \u001b[1;33m\u001b[0m\u001b[0m\n\u001b[0;32m    581\u001b[0m         \u001b[1;32mif\u001b[0m \u001b[0my\u001b[0m \u001b[1;32mis\u001b[0m \u001b[1;32mnot\u001b[0m \u001b[1;32mNone\u001b[0m\u001b[1;33m:\u001b[0m\u001b[1;33m\u001b[0m\u001b[1;33m\u001b[0m\u001b[0m\n",
      "\u001b[1;32m~\\.conda\\envs\\tesnsorflow\\lib\\site-packages\\keras\\engine\\training_utils.py\u001b[0m in \u001b[0;36mstandardize_input_data\u001b[1;34m(data, names, shapes, check_batch_axis, exception_prefix)\u001b[0m\n\u001b[0;32m    143\u001b[0m                             \u001b[1;34m': expected '\u001b[0m \u001b[1;33m+\u001b[0m \u001b[0mnames\u001b[0m\u001b[1;33m[\u001b[0m\u001b[0mi\u001b[0m\u001b[1;33m]\u001b[0m \u001b[1;33m+\u001b[0m \u001b[1;34m' to have shape '\u001b[0m \u001b[1;33m+\u001b[0m\u001b[1;33m\u001b[0m\u001b[1;33m\u001b[0m\u001b[0m\n\u001b[0;32m    144\u001b[0m                             \u001b[0mstr\u001b[0m\u001b[1;33m(\u001b[0m\u001b[0mshape\u001b[0m\u001b[1;33m)\u001b[0m \u001b[1;33m+\u001b[0m \u001b[1;34m' but got array with shape '\u001b[0m \u001b[1;33m+\u001b[0m\u001b[1;33m\u001b[0m\u001b[1;33m\u001b[0m\u001b[0m\n\u001b[1;32m--> 145\u001b[1;33m                             str(data_shape))\n\u001b[0m\u001b[0;32m    146\u001b[0m     \u001b[1;32mreturn\u001b[0m \u001b[0mdata\u001b[0m\u001b[1;33m\u001b[0m\u001b[1;33m\u001b[0m\u001b[0m\n\u001b[0;32m    147\u001b[0m \u001b[1;33m\u001b[0m\u001b[0m\n",
      "\u001b[1;31mValueError\u001b[0m: Error when checking input: expected dense_1_input to have shape (11,) but got array with shape (9,)"
     ]
    }
   ],
   "source": [
    "model.fit(X, y, epochs=150, batch_size=100)"
   ]
  },
  {
   "cell_type": "code",
   "execution_count": 10,
   "metadata": {},
   "outputs": [
    {
     "ename": "SyntaxError",
     "evalue": "Missing parentheses in call to 'print'. Did you mean print(x)? (<ipython-input-10-0b640320f694>, line 1)",
     "output_type": "error",
     "traceback": [
      "\u001b[1;36m  File \u001b[1;32m\"<ipython-input-10-0b640320f694>\"\u001b[1;36m, line \u001b[1;32m1\u001b[0m\n\u001b[1;33m    print x\u001b[0m\n\u001b[1;37m          ^\u001b[0m\n\u001b[1;31mSyntaxError\u001b[0m\u001b[1;31m:\u001b[0m Missing parentheses in call to 'print'. Did you mean print(x)?\n"
     ]
    }
   ],
   "source": [
    "print x"
   ]
  },
  {
   "cell_type": "code",
   "execution_count": 11,
   "metadata": {},
   "outputs": [
    {
     "ename": "NameError",
     "evalue": "name 'x' is not defined",
     "output_type": "error",
     "traceback": [
      "\u001b[1;31m---------------------------------------------------------------------------\u001b[0m",
      "\u001b[1;31mNameError\u001b[0m                                 Traceback (most recent call last)",
      "\u001b[1;32m<ipython-input-11-fc17d851ef81>\u001b[0m in \u001b[0;36m<module>\u001b[1;34m\u001b[0m\n\u001b[1;32m----> 1\u001b[1;33m \u001b[0mprint\u001b[0m\u001b[1;33m(\u001b[0m\u001b[0mx\u001b[0m\u001b[1;33m)\u001b[0m\u001b[1;33m\u001b[0m\u001b[1;33m\u001b[0m\u001b[0m\n\u001b[0m",
      "\u001b[1;31mNameError\u001b[0m: name 'x' is not defined"
     ]
    }
   ],
   "source": [
    "print(x)"
   ]
  },
  {
   "cell_type": "code",
   "execution_count": 12,
   "metadata": {},
   "outputs": [
    {
     "name": "stdout",
     "output_type": "stream",
     "text": [
      "[['11:48.7' 14 11 ... nan 65 nan]\n",
      " ['11:50.7' 14 11 ... nan 65 nan]\n",
      " ['11:53.9' 14 11 ... nan 65 nan]\n",
      " ...\n",
      " ['15:31.6' 15 15 ... 7.0 85 nan]\n",
      " ['15:32.0' 15 15 ... 7.0 85 nan]\n",
      " ['15:32.2' 15 15 ... 3.0 85 nan]]\n"
     ]
    }
   ],
   "source": [
    "print(X)"
   ]
  },
  {
   "cell_type": "code",
   "execution_count": 13,
   "metadata": {},
   "outputs": [
    {
     "ename": "NameError",
     "evalue": "name 'Y' is not defined",
     "output_type": "error",
     "traceback": [
      "\u001b[1;31m---------------------------------------------------------------------------\u001b[0m",
      "\u001b[1;31mNameError\u001b[0m                                 Traceback (most recent call last)",
      "\u001b[1;32m<ipython-input-13-47f69fb3d5a2>\u001b[0m in \u001b[0;36m<module>\u001b[1;34m\u001b[0m\n\u001b[1;32m----> 1\u001b[1;33m \u001b[0mprint\u001b[0m\u001b[1;33m(\u001b[0m\u001b[0mY\u001b[0m\u001b[1;33m)\u001b[0m\u001b[1;33m\u001b[0m\u001b[1;33m\u001b[0m\u001b[0m\n\u001b[0m",
      "\u001b[1;31mNameError\u001b[0m: name 'Y' is not defined"
     ]
    }
   ],
   "source": [
    "print(Y)"
   ]
  },
  {
   "cell_type": "code",
   "execution_count": 14,
   "metadata": {},
   "outputs": [
    {
     "name": "stdout",
     "output_type": "stream",
     "text": [
      "[60 60 60 ... 99 99 143]\n"
     ]
    }
   ],
   "source": [
    "print(y)"
   ]
  },
  {
   "cell_type": "code",
   "execution_count": 15,
   "metadata": {},
   "outputs": [],
   "source": [
    "X = bot_feature[:,0:8]\n",
    "y = bot_feature[:,9]"
   ]
  },
  {
   "cell_type": "code",
   "execution_count": 16,
   "metadata": {},
   "outputs": [],
   "source": [
    "model = Sequential()\n",
    "model.add(Dense(12, input_dim=11, activation='relu'))\n",
    "model.add(Dense(8, activation='relu'))\n",
    "model.add(Dense(1, activation='sigmoid'))\n",
    "model.compile(loss='binary_crossentropy', optimizer='adam', metrics=['accuracy'])"
   ]
  },
  {
   "cell_type": "code",
   "execution_count": 17,
   "metadata": {},
   "outputs": [
    {
     "ename": "ValueError",
     "evalue": "Error when checking input: expected dense_4_input to have shape (11,) but got array with shape (8,)",
     "output_type": "error",
     "traceback": [
      "\u001b[1;31m---------------------------------------------------------------------------\u001b[0m",
      "\u001b[1;31mValueError\u001b[0m                                Traceback (most recent call last)",
      "\u001b[1;32m<ipython-input-17-910cf18e14b3>\u001b[0m in \u001b[0;36m<module>\u001b[1;34m\u001b[0m\n\u001b[1;32m----> 1\u001b[1;33m \u001b[0mmodel\u001b[0m\u001b[1;33m.\u001b[0m\u001b[0mfit\u001b[0m\u001b[1;33m(\u001b[0m\u001b[0mX\u001b[0m\u001b[1;33m,\u001b[0m \u001b[0my\u001b[0m\u001b[1;33m,\u001b[0m \u001b[0mepochs\u001b[0m\u001b[1;33m=\u001b[0m\u001b[1;36m150\u001b[0m\u001b[1;33m,\u001b[0m \u001b[0mbatch_size\u001b[0m\u001b[1;33m=\u001b[0m\u001b[1;36m100\u001b[0m\u001b[1;33m)\u001b[0m\u001b[1;33m\u001b[0m\u001b[1;33m\u001b[0m\u001b[0m\n\u001b[0m",
      "\u001b[1;32m~\\.conda\\envs\\tesnsorflow\\lib\\site-packages\\keras\\engine\\training.py\u001b[0m in \u001b[0;36mfit\u001b[1;34m(self, x, y, batch_size, epochs, verbose, callbacks, validation_split, validation_data, shuffle, class_weight, sample_weight, initial_epoch, steps_per_epoch, validation_steps, validation_freq, max_queue_size, workers, use_multiprocessing, **kwargs)\u001b[0m\n\u001b[0;32m   1152\u001b[0m             \u001b[0msample_weight\u001b[0m\u001b[1;33m=\u001b[0m\u001b[0msample_weight\u001b[0m\u001b[1;33m,\u001b[0m\u001b[1;33m\u001b[0m\u001b[1;33m\u001b[0m\u001b[0m\n\u001b[0;32m   1153\u001b[0m             \u001b[0mclass_weight\u001b[0m\u001b[1;33m=\u001b[0m\u001b[0mclass_weight\u001b[0m\u001b[1;33m,\u001b[0m\u001b[1;33m\u001b[0m\u001b[1;33m\u001b[0m\u001b[0m\n\u001b[1;32m-> 1154\u001b[1;33m             batch_size=batch_size)\n\u001b[0m\u001b[0;32m   1155\u001b[0m \u001b[1;33m\u001b[0m\u001b[0m\n\u001b[0;32m   1156\u001b[0m         \u001b[1;31m# Prepare validation data.\u001b[0m\u001b[1;33m\u001b[0m\u001b[1;33m\u001b[0m\u001b[1;33m\u001b[0m\u001b[0m\n",
      "\u001b[1;32m~\\.conda\\envs\\tesnsorflow\\lib\\site-packages\\keras\\engine\\training.py\u001b[0m in \u001b[0;36m_standardize_user_data\u001b[1;34m(self, x, y, sample_weight, class_weight, check_array_lengths, batch_size)\u001b[0m\n\u001b[0;32m    577\u001b[0m             \u001b[0mfeed_input_shapes\u001b[0m\u001b[1;33m,\u001b[0m\u001b[1;33m\u001b[0m\u001b[1;33m\u001b[0m\u001b[0m\n\u001b[0;32m    578\u001b[0m             \u001b[0mcheck_batch_axis\u001b[0m\u001b[1;33m=\u001b[0m\u001b[1;32mFalse\u001b[0m\u001b[1;33m,\u001b[0m  \u001b[1;31m# Don't enforce the batch size.\u001b[0m\u001b[1;33m\u001b[0m\u001b[1;33m\u001b[0m\u001b[0m\n\u001b[1;32m--> 579\u001b[1;33m             exception_prefix='input')\n\u001b[0m\u001b[0;32m    580\u001b[0m \u001b[1;33m\u001b[0m\u001b[0m\n\u001b[0;32m    581\u001b[0m         \u001b[1;32mif\u001b[0m \u001b[0my\u001b[0m \u001b[1;32mis\u001b[0m \u001b[1;32mnot\u001b[0m \u001b[1;32mNone\u001b[0m\u001b[1;33m:\u001b[0m\u001b[1;33m\u001b[0m\u001b[1;33m\u001b[0m\u001b[0m\n",
      "\u001b[1;32m~\\.conda\\envs\\tesnsorflow\\lib\\site-packages\\keras\\engine\\training_utils.py\u001b[0m in \u001b[0;36mstandardize_input_data\u001b[1;34m(data, names, shapes, check_batch_axis, exception_prefix)\u001b[0m\n\u001b[0;32m    143\u001b[0m                             \u001b[1;34m': expected '\u001b[0m \u001b[1;33m+\u001b[0m \u001b[0mnames\u001b[0m\u001b[1;33m[\u001b[0m\u001b[0mi\u001b[0m\u001b[1;33m]\u001b[0m \u001b[1;33m+\u001b[0m \u001b[1;34m' to have shape '\u001b[0m \u001b[1;33m+\u001b[0m\u001b[1;33m\u001b[0m\u001b[1;33m\u001b[0m\u001b[0m\n\u001b[0;32m    144\u001b[0m                             \u001b[0mstr\u001b[0m\u001b[1;33m(\u001b[0m\u001b[0mshape\u001b[0m\u001b[1;33m)\u001b[0m \u001b[1;33m+\u001b[0m \u001b[1;34m' but got array with shape '\u001b[0m \u001b[1;33m+\u001b[0m\u001b[1;33m\u001b[0m\u001b[1;33m\u001b[0m\u001b[0m\n\u001b[1;32m--> 145\u001b[1;33m                             str(data_shape))\n\u001b[0m\u001b[0;32m    146\u001b[0m     \u001b[1;32mreturn\u001b[0m \u001b[0mdata\u001b[0m\u001b[1;33m\u001b[0m\u001b[1;33m\u001b[0m\u001b[0m\n\u001b[0;32m    147\u001b[0m \u001b[1;33m\u001b[0m\u001b[0m\n",
      "\u001b[1;31mValueError\u001b[0m: Error when checking input: expected dense_4_input to have shape (11,) but got array with shape (8,)"
     ]
    }
   ],
   "source": [
    "model.fit(X, y, epochs=150, batch_size=100)"
   ]
  },
  {
   "cell_type": "code",
   "execution_count": 18,
   "metadata": {},
   "outputs": [],
   "source": [
    "model = Sequential()\n",
    "model.add(Dense(12, input_dim=10, activation='relu'))\n",
    "model.add(Dense(8, activation='relu'))\n",
    "model.add(Dense(1, activation='sigmoid'))\n",
    "model.compile(loss='binary_crossentropy', optimizer='adam', metrics=['accuracy'])"
   ]
  },
  {
   "cell_type": "code",
   "execution_count": 19,
   "metadata": {},
   "outputs": [
    {
     "ename": "ValueError",
     "evalue": "Error when checking input: expected dense_7_input to have shape (10,) but got array with shape (8,)",
     "output_type": "error",
     "traceback": [
      "\u001b[1;31m---------------------------------------------------------------------------\u001b[0m",
      "\u001b[1;31mValueError\u001b[0m                                Traceback (most recent call last)",
      "\u001b[1;32m<ipython-input-19-910cf18e14b3>\u001b[0m in \u001b[0;36m<module>\u001b[1;34m\u001b[0m\n\u001b[1;32m----> 1\u001b[1;33m \u001b[0mmodel\u001b[0m\u001b[1;33m.\u001b[0m\u001b[0mfit\u001b[0m\u001b[1;33m(\u001b[0m\u001b[0mX\u001b[0m\u001b[1;33m,\u001b[0m \u001b[0my\u001b[0m\u001b[1;33m,\u001b[0m \u001b[0mepochs\u001b[0m\u001b[1;33m=\u001b[0m\u001b[1;36m150\u001b[0m\u001b[1;33m,\u001b[0m \u001b[0mbatch_size\u001b[0m\u001b[1;33m=\u001b[0m\u001b[1;36m100\u001b[0m\u001b[1;33m)\u001b[0m\u001b[1;33m\u001b[0m\u001b[1;33m\u001b[0m\u001b[0m\n\u001b[0m",
      "\u001b[1;32m~\\.conda\\envs\\tesnsorflow\\lib\\site-packages\\keras\\engine\\training.py\u001b[0m in \u001b[0;36mfit\u001b[1;34m(self, x, y, batch_size, epochs, verbose, callbacks, validation_split, validation_data, shuffle, class_weight, sample_weight, initial_epoch, steps_per_epoch, validation_steps, validation_freq, max_queue_size, workers, use_multiprocessing, **kwargs)\u001b[0m\n\u001b[0;32m   1152\u001b[0m             \u001b[0msample_weight\u001b[0m\u001b[1;33m=\u001b[0m\u001b[0msample_weight\u001b[0m\u001b[1;33m,\u001b[0m\u001b[1;33m\u001b[0m\u001b[1;33m\u001b[0m\u001b[0m\n\u001b[0;32m   1153\u001b[0m             \u001b[0mclass_weight\u001b[0m\u001b[1;33m=\u001b[0m\u001b[0mclass_weight\u001b[0m\u001b[1;33m,\u001b[0m\u001b[1;33m\u001b[0m\u001b[1;33m\u001b[0m\u001b[0m\n\u001b[1;32m-> 1154\u001b[1;33m             batch_size=batch_size)\n\u001b[0m\u001b[0;32m   1155\u001b[0m \u001b[1;33m\u001b[0m\u001b[0m\n\u001b[0;32m   1156\u001b[0m         \u001b[1;31m# Prepare validation data.\u001b[0m\u001b[1;33m\u001b[0m\u001b[1;33m\u001b[0m\u001b[1;33m\u001b[0m\u001b[0m\n",
      "\u001b[1;32m~\\.conda\\envs\\tesnsorflow\\lib\\site-packages\\keras\\engine\\training.py\u001b[0m in \u001b[0;36m_standardize_user_data\u001b[1;34m(self, x, y, sample_weight, class_weight, check_array_lengths, batch_size)\u001b[0m\n\u001b[0;32m    577\u001b[0m             \u001b[0mfeed_input_shapes\u001b[0m\u001b[1;33m,\u001b[0m\u001b[1;33m\u001b[0m\u001b[1;33m\u001b[0m\u001b[0m\n\u001b[0;32m    578\u001b[0m             \u001b[0mcheck_batch_axis\u001b[0m\u001b[1;33m=\u001b[0m\u001b[1;32mFalse\u001b[0m\u001b[1;33m,\u001b[0m  \u001b[1;31m# Don't enforce the batch size.\u001b[0m\u001b[1;33m\u001b[0m\u001b[1;33m\u001b[0m\u001b[0m\n\u001b[1;32m--> 579\u001b[1;33m             exception_prefix='input')\n\u001b[0m\u001b[0;32m    580\u001b[0m \u001b[1;33m\u001b[0m\u001b[0m\n\u001b[0;32m    581\u001b[0m         \u001b[1;32mif\u001b[0m \u001b[0my\u001b[0m \u001b[1;32mis\u001b[0m \u001b[1;32mnot\u001b[0m \u001b[1;32mNone\u001b[0m\u001b[1;33m:\u001b[0m\u001b[1;33m\u001b[0m\u001b[1;33m\u001b[0m\u001b[0m\n",
      "\u001b[1;32m~\\.conda\\envs\\tesnsorflow\\lib\\site-packages\\keras\\engine\\training_utils.py\u001b[0m in \u001b[0;36mstandardize_input_data\u001b[1;34m(data, names, shapes, check_batch_axis, exception_prefix)\u001b[0m\n\u001b[0;32m    143\u001b[0m                             \u001b[1;34m': expected '\u001b[0m \u001b[1;33m+\u001b[0m \u001b[0mnames\u001b[0m\u001b[1;33m[\u001b[0m\u001b[0mi\u001b[0m\u001b[1;33m]\u001b[0m \u001b[1;33m+\u001b[0m \u001b[1;34m' to have shape '\u001b[0m \u001b[1;33m+\u001b[0m\u001b[1;33m\u001b[0m\u001b[1;33m\u001b[0m\u001b[0m\n\u001b[0;32m    144\u001b[0m                             \u001b[0mstr\u001b[0m\u001b[1;33m(\u001b[0m\u001b[0mshape\u001b[0m\u001b[1;33m)\u001b[0m \u001b[1;33m+\u001b[0m \u001b[1;34m' but got array with shape '\u001b[0m \u001b[1;33m+\u001b[0m\u001b[1;33m\u001b[0m\u001b[1;33m\u001b[0m\u001b[0m\n\u001b[1;32m--> 145\u001b[1;33m                             str(data_shape))\n\u001b[0m\u001b[0;32m    146\u001b[0m     \u001b[1;32mreturn\u001b[0m \u001b[0mdata\u001b[0m\u001b[1;33m\u001b[0m\u001b[1;33m\u001b[0m\u001b[0m\n\u001b[0;32m    147\u001b[0m \u001b[1;33m\u001b[0m\u001b[0m\n",
      "\u001b[1;31mValueError\u001b[0m: Error when checking input: expected dense_7_input to have shape (10,) but got array with shape (8,)"
     ]
    }
   ],
   "source": [
    "model.fit(X, y, epochs=150, batch_size=100)"
   ]
  },
  {
   "cell_type": "code",
   "execution_count": 20,
   "metadata": {},
   "outputs": [
    {
     "ename": "IndexError",
     "evalue": "index 6 is out of bounds for axis 1 with size 6",
     "output_type": "error",
     "traceback": [
      "\u001b[1;31m---------------------------------------------------------------------------\u001b[0m",
      "\u001b[1;31mIndexError\u001b[0m                                Traceback (most recent call last)",
      "\u001b[1;32m<ipython-input-20-c641f66fcab9>\u001b[0m in \u001b[0;36m<module>\u001b[1;34m\u001b[0m\n\u001b[0;32m     11\u001b[0m \u001b[0mbot_feature\u001b[0m\u001b[1;33m\u001b[0m\u001b[1;33m\u001b[0m\u001b[0m\n\u001b[0;32m     12\u001b[0m \u001b[0mX\u001b[0m \u001b[1;33m=\u001b[0m \u001b[0mbot_feature\u001b[0m\u001b[1;33m[\u001b[0m\u001b[1;33m:\u001b[0m\u001b[1;33m,\u001b[0m\u001b[1;36m0\u001b[0m\u001b[1;33m:\u001b[0m\u001b[1;36m6\u001b[0m\u001b[1;33m]\u001b[0m\u001b[1;33m\u001b[0m\u001b[1;33m\u001b[0m\u001b[0m\n\u001b[1;32m---> 13\u001b[1;33m \u001b[0my\u001b[0m \u001b[1;33m=\u001b[0m \u001b[0mbot_feature\u001b[0m\u001b[1;33m[\u001b[0m\u001b[1;33m:\u001b[0m\u001b[1;33m,\u001b[0m\u001b[1;36m6\u001b[0m\u001b[1;33m]\u001b[0m\u001b[1;33m\u001b[0m\u001b[1;33m\u001b[0m\u001b[0m\n\u001b[0m\u001b[0;32m     14\u001b[0m \u001b[0mmodel\u001b[0m \u001b[1;33m=\u001b[0m \u001b[0mSequential\u001b[0m\u001b[1;33m(\u001b[0m\u001b[1;33m)\u001b[0m\u001b[1;33m\u001b[0m\u001b[1;33m\u001b[0m\u001b[0m\n\u001b[0;32m     15\u001b[0m \u001b[0mmodel\u001b[0m\u001b[1;33m.\u001b[0m\u001b[0madd\u001b[0m\u001b[1;33m(\u001b[0m\u001b[0mDense\u001b[0m\u001b[1;33m(\u001b[0m\u001b[1;36m12\u001b[0m\u001b[1;33m,\u001b[0m \u001b[0minput_dim\u001b[0m\u001b[1;33m=\u001b[0m\u001b[1;36m11\u001b[0m\u001b[1;33m,\u001b[0m \u001b[0mactivation\u001b[0m\u001b[1;33m=\u001b[0m\u001b[1;34m'relu'\u001b[0m\u001b[1;33m)\u001b[0m\u001b[1;33m)\u001b[0m\u001b[1;33m\u001b[0m\u001b[1;33m\u001b[0m\u001b[0m\n",
      "\u001b[1;31mIndexError\u001b[0m: index 6 is out of bounds for axis 1 with size 6"
     ]
    }
   ],
   "source": [
    "from numpy import loadtxt\n",
    "from keras.models import Sequential\n",
    "from keras.layers import Dense\n",
    "import pandas as pd\n",
    "import numpy as np\n",
    "bot_df = pd.read_csv(\"FinalizedFullSet.csv\")\n",
    "bot_df.head()\n",
    "bot_feature = bot_df.copy()\n",
    "bot_labels = bot_feature.pop('Lbls')\n",
    "bot_feature = np.array(bot_feature)\n",
    "bot_feature\n",
    "X = bot_feature[:,0:6]\n",
    "y = bot_feature[:,6]\n",
    "model = Sequential()\n",
    "model.add(Dense(12, input_dim=11, activation='relu'))\n",
    "model.add(Dense(8, activation='relu'))\n",
    "model.add(Dense(1, activation='sigmoid'))\n",
    "model.compile(loss='binary_crossentropy', optimizer='adam', metrics=['accuracy'])"
   ]
  },
  {
   "cell_type": "code",
   "execution_count": 21,
   "metadata": {},
   "outputs": [
    {
     "ename": "IndexError",
     "evalue": "index 6 is out of bounds for axis 1 with size 6",
     "output_type": "error",
     "traceback": [
      "\u001b[1;31m---------------------------------------------------------------------------\u001b[0m",
      "\u001b[1;31mIndexError\u001b[0m                                Traceback (most recent call last)",
      "\u001b[1;32m<ipython-input-21-011cd57e9c98>\u001b[0m in \u001b[0;36m<module>\u001b[1;34m\u001b[0m\n\u001b[0;32m     11\u001b[0m \u001b[0mbot_feature\u001b[0m\u001b[1;33m\u001b[0m\u001b[1;33m\u001b[0m\u001b[0m\n\u001b[0;32m     12\u001b[0m \u001b[0mX\u001b[0m \u001b[1;33m=\u001b[0m \u001b[0mbot_feature\u001b[0m\u001b[1;33m[\u001b[0m\u001b[1;33m:\u001b[0m\u001b[1;33m,\u001b[0m\u001b[1;36m0\u001b[0m\u001b[1;33m:\u001b[0m\u001b[1;36m6\u001b[0m\u001b[1;33m]\u001b[0m\u001b[1;33m\u001b[0m\u001b[1;33m\u001b[0m\u001b[0m\n\u001b[1;32m---> 13\u001b[1;33m \u001b[0my\u001b[0m \u001b[1;33m=\u001b[0m \u001b[0mbot_feature\u001b[0m\u001b[1;33m[\u001b[0m\u001b[1;33m:\u001b[0m\u001b[1;33m,\u001b[0m\u001b[1;36m6\u001b[0m\u001b[1;33m]\u001b[0m\u001b[1;33m\u001b[0m\u001b[1;33m\u001b[0m\u001b[0m\n\u001b[0m\u001b[0;32m     14\u001b[0m \u001b[0mmodel\u001b[0m \u001b[1;33m=\u001b[0m \u001b[0mSequential\u001b[0m\u001b[1;33m(\u001b[0m\u001b[1;33m)\u001b[0m\u001b[1;33m\u001b[0m\u001b[1;33m\u001b[0m\u001b[0m\n\u001b[0;32m     15\u001b[0m \u001b[0mmodel\u001b[0m\u001b[1;33m.\u001b[0m\u001b[0madd\u001b[0m\u001b[1;33m(\u001b[0m\u001b[0mDense\u001b[0m\u001b[1;33m(\u001b[0m\u001b[1;36m6\u001b[0m\u001b[1;33m,\u001b[0m \u001b[0minput_dim\u001b[0m\u001b[1;33m=\u001b[0m\u001b[1;36m6\u001b[0m\u001b[1;33m,\u001b[0m \u001b[0mactivation\u001b[0m\u001b[1;33m=\u001b[0m\u001b[1;34m'relu'\u001b[0m\u001b[1;33m)\u001b[0m\u001b[1;33m)\u001b[0m\u001b[1;33m\u001b[0m\u001b[1;33m\u001b[0m\u001b[0m\n",
      "\u001b[1;31mIndexError\u001b[0m: index 6 is out of bounds for axis 1 with size 6"
     ]
    }
   ],
   "source": [
    "from numpy import loadtxt\n",
    "from keras.models import Sequential\n",
    "from keras.layers import Dense\n",
    "import pandas as pd\n",
    "import numpy as np\n",
    "bot_df = pd.read_csv(\"FinalizedFullSet.csv\")\n",
    "bot_df.head()\n",
    "bot_feature = bot_df.copy()\n",
    "bot_labels = bot_feature.pop('Lbls')\n",
    "bot_feature = np.array(bot_feature)\n",
    "bot_feature\n",
    "X = bot_feature[:,0:6]\n",
    "y = bot_feature[:,6]\n",
    "model = Sequential()\n",
    "model.add(Dense(6, input_dim=6, activation='relu'))\n",
    "model.add(Dense(6, activation='relu'))\n",
    "model.add(Dense(1, activation='sigmoid'))\n",
    "model.compile(loss='binary_crossentropy', optimizer='adam', metrics=['accuracy'])"
   ]
  },
  {
   "cell_type": "code",
   "execution_count": 22,
   "metadata": {},
   "outputs": [
    {
     "ename": "IndexError",
     "evalue": "index 6 is out of bounds for axis 1 with size 6",
     "output_type": "error",
     "traceback": [
      "\u001b[1;31m---------------------------------------------------------------------------\u001b[0m",
      "\u001b[1;31mIndexError\u001b[0m                                Traceback (most recent call last)",
      "\u001b[1;32m<ipython-input-22-646f7affc1a6>\u001b[0m in \u001b[0;36m<module>\u001b[1;34m\u001b[0m\n\u001b[0;32m     11\u001b[0m \u001b[0mbot_feature\u001b[0m\u001b[1;33m\u001b[0m\u001b[1;33m\u001b[0m\u001b[0m\n\u001b[0;32m     12\u001b[0m \u001b[0mX\u001b[0m \u001b[1;33m=\u001b[0m \u001b[0mbot_feature\u001b[0m\u001b[1;33m[\u001b[0m\u001b[1;33m:\u001b[0m\u001b[1;33m,\u001b[0m\u001b[1;36m0\u001b[0m\u001b[1;33m:\u001b[0m\u001b[1;36m5\u001b[0m\u001b[1;33m]\u001b[0m\u001b[1;33m\u001b[0m\u001b[1;33m\u001b[0m\u001b[0m\n\u001b[1;32m---> 13\u001b[1;33m \u001b[0my\u001b[0m \u001b[1;33m=\u001b[0m \u001b[0mbot_feature\u001b[0m\u001b[1;33m[\u001b[0m\u001b[1;33m:\u001b[0m\u001b[1;33m,\u001b[0m\u001b[1;36m6\u001b[0m\u001b[1;33m]\u001b[0m\u001b[1;33m\u001b[0m\u001b[1;33m\u001b[0m\u001b[0m\n\u001b[0m\u001b[0;32m     14\u001b[0m \u001b[0mmodel\u001b[0m \u001b[1;33m=\u001b[0m \u001b[0mSequential\u001b[0m\u001b[1;33m(\u001b[0m\u001b[1;33m)\u001b[0m\u001b[1;33m\u001b[0m\u001b[1;33m\u001b[0m\u001b[0m\n\u001b[0;32m     15\u001b[0m \u001b[0mmodel\u001b[0m\u001b[1;33m.\u001b[0m\u001b[0madd\u001b[0m\u001b[1;33m(\u001b[0m\u001b[0mDense\u001b[0m\u001b[1;33m(\u001b[0m\u001b[1;36m12\u001b[0m\u001b[1;33m,\u001b[0m \u001b[0minput_dim\u001b[0m\u001b[1;33m=\u001b[0m\u001b[1;36m11\u001b[0m\u001b[1;33m,\u001b[0m \u001b[0mactivation\u001b[0m\u001b[1;33m=\u001b[0m\u001b[1;34m'relu'\u001b[0m\u001b[1;33m)\u001b[0m\u001b[1;33m)\u001b[0m\u001b[1;33m\u001b[0m\u001b[1;33m\u001b[0m\u001b[0m\n",
      "\u001b[1;31mIndexError\u001b[0m: index 6 is out of bounds for axis 1 with size 6"
     ]
    }
   ],
   "source": [
    "from numpy import loadtxt\n",
    "from keras.models import Sequential\n",
    "from keras.layers import Dense\n",
    "import pandas as pd\n",
    "import numpy as np\n",
    "bot_df = pd.read_csv(\"FinalizedFullSet.csv\")\n",
    "bot_df.head()\n",
    "bot_feature = bot_df.copy()\n",
    "bot_labels = bot_feature.pop('Lbls')\n",
    "bot_feature = np.array(bot_feature)\n",
    "bot_feature\n",
    "X = bot_feature[:,0:5]\n",
    "y = bot_feature[:,6]\n",
    "model = Sequential()\n",
    "model.add(Dense(12, input_dim=11, activation='relu'))\n",
    "model.add(Dense(8, activation='relu'))\n",
    "model.add(Dense(1, activation='sigmoid'))\n",
    "model.compile(loss='binary_crossentropy', optimizer='adam', metrics=['accuracy'])"
   ]
  },
  {
   "cell_type": "code",
   "execution_count": 23,
   "metadata": {},
   "outputs": [],
   "source": [
    "from numpy import loadtxt\n",
    "from keras.models import Sequential\n",
    "from keras.layers import Dense\n",
    "import pandas as pd\n",
    "import numpy as np\n",
    "bot_df = pd.read_csv(\"FinalizedFullSet.csv\")\n",
    "bot_df.head()\n",
    "bot_feature = bot_df.copy()\n",
    "bot_labels = bot_feature.pop('Lbls')\n",
    "bot_feature = np.array(bot_feature)\n",
    "bot_feature\n",
    "X = bot_feature[:,0:5]\n",
    "y = bot_feature[:,5]\n",
    "model = Sequential()\n",
    "model.add(Dense(12, input_dim=11, activation='relu'))\n",
    "model.add(Dense(8, activation='relu'))\n",
    "model.add(Dense(1, activation='sigmoid'))\n",
    "model.compile(loss='binary_crossentropy', optimizer='adam', metrics=['accuracy'])"
   ]
  },
  {
   "cell_type": "code",
   "execution_count": 24,
   "metadata": {},
   "outputs": [
    {
     "ename": "ValueError",
     "evalue": "Error when checking input: expected dense_10_input to have shape (11,) but got array with shape (5,)",
     "output_type": "error",
     "traceback": [
      "\u001b[1;31m---------------------------------------------------------------------------\u001b[0m",
      "\u001b[1;31mValueError\u001b[0m                                Traceback (most recent call last)",
      "\u001b[1;32m<ipython-input-24-910cf18e14b3>\u001b[0m in \u001b[0;36m<module>\u001b[1;34m\u001b[0m\n\u001b[1;32m----> 1\u001b[1;33m \u001b[0mmodel\u001b[0m\u001b[1;33m.\u001b[0m\u001b[0mfit\u001b[0m\u001b[1;33m(\u001b[0m\u001b[0mX\u001b[0m\u001b[1;33m,\u001b[0m \u001b[0my\u001b[0m\u001b[1;33m,\u001b[0m \u001b[0mepochs\u001b[0m\u001b[1;33m=\u001b[0m\u001b[1;36m150\u001b[0m\u001b[1;33m,\u001b[0m \u001b[0mbatch_size\u001b[0m\u001b[1;33m=\u001b[0m\u001b[1;36m100\u001b[0m\u001b[1;33m)\u001b[0m\u001b[1;33m\u001b[0m\u001b[1;33m\u001b[0m\u001b[0m\n\u001b[0m",
      "\u001b[1;32m~\\.conda\\envs\\tesnsorflow\\lib\\site-packages\\keras\\engine\\training.py\u001b[0m in \u001b[0;36mfit\u001b[1;34m(self, x, y, batch_size, epochs, verbose, callbacks, validation_split, validation_data, shuffle, class_weight, sample_weight, initial_epoch, steps_per_epoch, validation_steps, validation_freq, max_queue_size, workers, use_multiprocessing, **kwargs)\u001b[0m\n\u001b[0;32m   1152\u001b[0m             \u001b[0msample_weight\u001b[0m\u001b[1;33m=\u001b[0m\u001b[0msample_weight\u001b[0m\u001b[1;33m,\u001b[0m\u001b[1;33m\u001b[0m\u001b[1;33m\u001b[0m\u001b[0m\n\u001b[0;32m   1153\u001b[0m             \u001b[0mclass_weight\u001b[0m\u001b[1;33m=\u001b[0m\u001b[0mclass_weight\u001b[0m\u001b[1;33m,\u001b[0m\u001b[1;33m\u001b[0m\u001b[1;33m\u001b[0m\u001b[0m\n\u001b[1;32m-> 1154\u001b[1;33m             batch_size=batch_size)\n\u001b[0m\u001b[0;32m   1155\u001b[0m \u001b[1;33m\u001b[0m\u001b[0m\n\u001b[0;32m   1156\u001b[0m         \u001b[1;31m# Prepare validation data.\u001b[0m\u001b[1;33m\u001b[0m\u001b[1;33m\u001b[0m\u001b[1;33m\u001b[0m\u001b[0m\n",
      "\u001b[1;32m~\\.conda\\envs\\tesnsorflow\\lib\\site-packages\\keras\\engine\\training.py\u001b[0m in \u001b[0;36m_standardize_user_data\u001b[1;34m(self, x, y, sample_weight, class_weight, check_array_lengths, batch_size)\u001b[0m\n\u001b[0;32m    577\u001b[0m             \u001b[0mfeed_input_shapes\u001b[0m\u001b[1;33m,\u001b[0m\u001b[1;33m\u001b[0m\u001b[1;33m\u001b[0m\u001b[0m\n\u001b[0;32m    578\u001b[0m             \u001b[0mcheck_batch_axis\u001b[0m\u001b[1;33m=\u001b[0m\u001b[1;32mFalse\u001b[0m\u001b[1;33m,\u001b[0m  \u001b[1;31m# Don't enforce the batch size.\u001b[0m\u001b[1;33m\u001b[0m\u001b[1;33m\u001b[0m\u001b[0m\n\u001b[1;32m--> 579\u001b[1;33m             exception_prefix='input')\n\u001b[0m\u001b[0;32m    580\u001b[0m \u001b[1;33m\u001b[0m\u001b[0m\n\u001b[0;32m    581\u001b[0m         \u001b[1;32mif\u001b[0m \u001b[0my\u001b[0m \u001b[1;32mis\u001b[0m \u001b[1;32mnot\u001b[0m \u001b[1;32mNone\u001b[0m\u001b[1;33m:\u001b[0m\u001b[1;33m\u001b[0m\u001b[1;33m\u001b[0m\u001b[0m\n",
      "\u001b[1;32m~\\.conda\\envs\\tesnsorflow\\lib\\site-packages\\keras\\engine\\training_utils.py\u001b[0m in \u001b[0;36mstandardize_input_data\u001b[1;34m(data, names, shapes, check_batch_axis, exception_prefix)\u001b[0m\n\u001b[0;32m    143\u001b[0m                             \u001b[1;34m': expected '\u001b[0m \u001b[1;33m+\u001b[0m \u001b[0mnames\u001b[0m\u001b[1;33m[\u001b[0m\u001b[0mi\u001b[0m\u001b[1;33m]\u001b[0m \u001b[1;33m+\u001b[0m \u001b[1;34m' to have shape '\u001b[0m \u001b[1;33m+\u001b[0m\u001b[1;33m\u001b[0m\u001b[1;33m\u001b[0m\u001b[0m\n\u001b[0;32m    144\u001b[0m                             \u001b[0mstr\u001b[0m\u001b[1;33m(\u001b[0m\u001b[0mshape\u001b[0m\u001b[1;33m)\u001b[0m \u001b[1;33m+\u001b[0m \u001b[1;34m' but got array with shape '\u001b[0m \u001b[1;33m+\u001b[0m\u001b[1;33m\u001b[0m\u001b[1;33m\u001b[0m\u001b[0m\n\u001b[1;32m--> 145\u001b[1;33m                             str(data_shape))\n\u001b[0m\u001b[0;32m    146\u001b[0m     \u001b[1;32mreturn\u001b[0m \u001b[0mdata\u001b[0m\u001b[1;33m\u001b[0m\u001b[1;33m\u001b[0m\u001b[0m\n\u001b[0;32m    147\u001b[0m \u001b[1;33m\u001b[0m\u001b[0m\n",
      "\u001b[1;31mValueError\u001b[0m: Error when checking input: expected dense_10_input to have shape (11,) but got array with shape (5,)"
     ]
    }
   ],
   "source": [
    "model.fit(X, y, epochs=150, batch_size=100)"
   ]
  },
  {
   "cell_type": "code",
   "execution_count": 25,
   "metadata": {},
   "outputs": [],
   "source": [
    "model = Sequential()\n",
    "model.add(Dense(12, input_dim=5, activation='relu'))\n",
    "model.add(Dense(8, activation='relu'))\n",
    "model.add(Dense(1, activation='sigmoid'))\n",
    "model.compile(loss='binary_crossentropy', optimizer='adam', metrics=['accuracy'])"
   ]
  },
  {
   "cell_type": "code",
   "execution_count": 26,
   "metadata": {},
   "outputs": [
    {
     "name": "stdout",
     "output_type": "stream",
     "text": [
      "Epoch 1/150\n",
      "352266/352266 [==============================] - 9s 26us/step - loss: -408442089.9849 - accuracy: 0.0000e+00\n",
      "Epoch 2/150\n",
      "352266/352266 [==============================] - 8s 22us/step - loss: -4276466466.2214 - accuracy: 0.0000e+00\n",
      "Epoch 3/150\n",
      "352266/352266 [==============================] - 7s 21us/step - loss: -14326366239.8363 - accuracy: 0.0000e+00\n",
      "Epoch 4/150\n",
      "352266/352266 [==============================] - 7s 19us/step - loss: -32540112065.1282 - accuracy: 0.0000e+00\n",
      "Epoch 5/150\n",
      "352266/352266 [==============================] - 7s 20us/step - loss: -60845142904.6957 - accuracy: 0.0000e+00\n",
      "Epoch 6/150\n",
      "352266/352266 [==============================] - 7s 19us/step - loss: -101208711342.4602 - accuracy: 0.0000e+00\n",
      "Epoch 7/150\n",
      "352266/352266 [==============================] - 7s 19us/step - loss: -155531190415.2982 - accuracy: 0.0000e+00\n",
      "Epoch 8/150\n",
      "352266/352266 [==============================] - 8s 22us/step - loss: -225733259309.9755 - accuracy: 0.0000e+00\n",
      "Epoch 9/150\n",
      "352266/352266 [==============================] - 7s 19us/step - loss: -313706255841.7014 - accuracy: 0.0000e+00\n",
      "Epoch 10/150\n",
      "352266/352266 [==============================] - 7s 20us/step - loss: -421241770900.4158 - accuracy: 0.0000e+00\n",
      "Epoch 11/150\n",
      "352266/352266 [==============================] - 7s 19us/step - loss: -550283767121.6241 - accuracy: 0.0000e+00\n",
      "Epoch 12/150\n",
      "352266/352266 [==============================] - 7s 20us/step - loss: -702581757933.3145 - accuracy: 0.0000e+00\n",
      "Epoch 13/150\n",
      "352266/352266 [==============================] - 7s 19us/step - loss: -880110010325.2106 - accuracy: 0.0000e+00\n",
      "Epoch 14/150\n",
      "352266/352266 [==============================] - 7s 19us/step - loss: -1084712068381.3116 - accuracy: 0.0000e+00\n",
      "Epoch 15/150\n",
      "352266/352266 [==============================] - 7s 20us/step - loss: -1317993935205.5015 - accuracy: 0.0000e+00\n",
      "Epoch 16/150\n",
      "352266/352266 [==============================] - 7s 19us/step - loss: -1581953251094.7625 - accuracy: 0.0000e+00\n",
      "Epoch 17/150\n",
      "352266/352266 [==============================] - 7s 20us/step - loss: -1878367978972.3296 - accuracy: 0.0000e+00\n",
      "Epoch 18/150\n",
      "352266/352266 [==============================] - 7s 19us/step - loss: -2209307597708.2646 - accuracy: 0.0000e+00\n",
      "Epoch 19/150\n",
      "352266/352266 [==============================] - 7s 19us/step - loss: -2576280465554.9961 - accuracy: 0.0000e+00\n",
      "Epoch 20/150\n",
      "352266/352266 [==============================] - 7s 19us/step - loss: -2980865178657.8882 - accuracy: 0.0000e+00\n",
      "Epoch 21/150\n",
      "352266/352266 [==============================] - 6s 18us/step - loss: -3425261691060.0410 - accuracy: 0.0000e+00\n",
      "Epoch 22/150\n",
      "352266/352266 [==============================] - 7s 20us/step - loss: -3911513078493.4326 - accuracy: 0.0000e+00\n",
      "Epoch 23/150\n",
      "352266/352266 [==============================] - 7s 19us/step - loss: -4441447831804.2832 - accuracy: 0.0000e+00\n",
      "Epoch 24/150\n",
      "352266/352266 [==============================] - 7s 20us/step - loss: -5015845706465.4785 - accuracy: 0.0000e+00\n",
      "Epoch 25/150\n",
      "352266/352266 [==============================] - 7s 19us/step - loss: -5637469592633.7480 - accuracy: 0.0000e+00\n",
      "Epoch 26/150\n",
      "352266/352266 [==============================] - 7s 19us/step - loss: -6307888857823.4209 - accuracy: 0.0000e+00\n",
      "Epoch 27/150\n",
      "352266/352266 [==============================] - 7s 21us/step - loss: -7028602533167.1484 - accuracy: 0.0000e+00\n",
      "Epoch 28/150\n",
      "352266/352266 [==============================] - 7s 19us/step - loss: -7802217023815.8389 - accuracy: 0.0000e+00\n",
      "Epoch 29/150\n",
      "352266/352266 [==============================] - 7s 21us/step - loss: -8629844254713.4414 - accuracy: 0.0000e+00\n",
      "Epoch 30/150\n",
      "352266/352266 [==============================] - 7s 20us/step - loss: -9513737222779.7617 - accuracy: 0.0000e+00\n",
      "Epoch 31/150\n",
      "352266/352266 [==============================] - ETA: 0s - loss: -10452795669362.3770 - accuracy: 0.0000e+ - 7s 20us/step - loss: -10454952227589.3965 - accuracy: 0.0000e+00\n",
      "Epoch 32/150\n",
      "352266/352266 [==============================] - 7s 19us/step - loss: -11455839108145.7012 - accuracy: 0.0000e+00\n",
      "Epoch 33/150\n",
      "352266/352266 [==============================] - 7s 19us/step - loss: -12518553459899.1406 - accuracy: 0.0000e+00\n",
      "Epoch 34/150\n",
      "352266/352266 [==============================] - 7s 20us/step - loss: -13644532089212.6426 - accuracy: 0.0000e+00\n",
      "Epoch 35/150\n",
      "352266/352266 [==============================] - 7s 19us/step - loss: -14834848529466.6328 - accuracy: 0.0000e+00\n",
      "Epoch 36/150\n",
      "352266/352266 [==============================] - 7s 20us/step - loss: -16092252300320.3887 - accuracy: 0.0000e+00\n",
      "Epoch 37/150\n",
      "352266/352266 [==============================] - 7s 18us/step - loss: -17417830473074.0195 - accuracy: 0.0000e+00\n",
      "Epoch 38/150\n",
      "352266/352266 [==============================] - 7s 21us/step - loss: -18814402771494.6445 - accuracy: 0.0000e+00\n",
      "Epoch 39/150\n",
      "352266/352266 [==============================] - 7s 19us/step - loss: -20283757022049.8711 - accuracy: 0.0000e+00\n",
      "Epoch 40/150\n",
      "352266/352266 [==============================] - 7s 19us/step - loss: -21826150476909.0742 - accuracy: 0.0000e+00\n",
      "Epoch 41/150\n",
      "352266/352266 [==============================] - 8s 21us/step - loss: -23444402774849.7930 - accuracy: 0.0000e+00\n",
      "Epoch 42/150\n",
      "352266/352266 [==============================] - 7s 19us/step - loss: -25139111600286.6445 - accuracy: 0.0000e+00\n",
      "Epoch 43/150\n",
      "352266/352266 [==============================] - 7s 20us/step - loss: -26914129639180.3438 - accuracy: 0.0000e+00\n",
      "Epoch 44/150\n",
      "352266/352266 [==============================] - 7s 19us/step - loss: -28770735046838.2266 - accuracy: 0.0000e+00\n",
      "Epoch 45/150\n",
      "352266/352266 [==============================] - 7s 20us/step - loss: -30709457326701.4492 - accuracy: 0.0000e+00\n",
      "Epoch 46/150\n",
      "352266/352266 [==============================] - 6s 18us/step - loss: -32733829854826.8594 - accuracy: 0.0000e+00\n",
      "Epoch 47/150\n",
      "352266/352266 [==============================] - 7s 19us/step - loss: -34843212632213.1836 - accuracy: 0.0000e+00\n",
      "Epoch 48/150\n",
      "352266/352266 [==============================] - 7s 20us/step - loss: -37042007962158.9844 - accuracy: 0.0000e+00\n",
      "Epoch 49/150\n",
      "352266/352266 [==============================] - 7s 19us/step - loss: -39330531707750.9844 - accuracy: 0.0000e+00\n",
      "Epoch 50/150\n",
      "352266/352266 [==============================] - 7s 20us/step - loss: -41712362793904.4219 - accuracy: 0.0000e+00\n",
      "Epoch 51/150\n",
      "352266/352266 [==============================] - 7s 19us/step - loss: -44186662021623.1328 - accuracy: 0.0000e+00\n",
      "Epoch 52/150\n",
      "352266/352266 [==============================] - 8s 22us/step - loss: -46755526472681.7578 - accuracy: 0.0000e+00\n",
      "Epoch 53/150\n",
      "352266/352266 [==============================] - 8s 23us/step - loss: -49422038594010.1484 - accuracy: 0.0000e+00\n",
      "Epoch 54/150\n",
      "352266/352266 [==============================] - 8s 24us/step - loss: -52188486813997.0547 - accuracy: 0.0000e+00\n",
      "Epoch 55/150\n",
      "352266/352266 [==============================] - 6s 18us/step - loss: -55053483581996.0312 - accuracy: 0.0000e+00\n",
      "Epoch 56/150\n",
      "352266/352266 [==============================] - 7s 20us/step - loss: -58023269442243.8359 - accuracy: 0.0000e+00\n",
      "Epoch 57/150\n",
      "352266/352266 [==============================] - 9s 25us/step - loss: -61097335980123.5234 - accuracy: 0.0000e+00\n",
      "Epoch 58/150\n",
      "352266/352266 [==============================] - 6s 18us/step - loss: -64276857835482.5781 - accuracy: 0.0000e+00\n",
      "Epoch 59/150\n",
      "352266/352266 [==============================] - 8s 23us/step - loss: -67565133952972.3359 - accuracy: 0.0000e+00\n",
      "Epoch 60/150\n",
      "352266/352266 [==============================] - 7s 20us/step - loss: -70962800429526.6250 - accuracy: 0.0000e+00\n",
      "Epoch 61/150\n",
      "352266/352266 [==============================] - 7s 19us/step - loss: -74469813596404.8594 - accuracy: 0.0000e+00\n",
      "Epoch 62/150\n",
      "352266/352266 [==============================] - 6s 18us/step - loss: -78090802407977.5625 - accuracy: 0.0000e+00\n",
      "Epoch 63/150\n",
      "352266/352266 [==============================] - 6s 18us/step - loss: -81829633030187.4062 - accuracy: 0.0000e+00\n",
      "Epoch 64/150\n",
      "352266/352266 [==============================] - 6s 17us/step - loss: -85683225761442.0625 - accuracy: 0.0000e+00\n",
      "Epoch 65/150\n"
     ]
    },
    {
     "name": "stdout",
     "output_type": "stream",
     "text": [
      "352266/352266 [==============================] - 7s 21us/step - loss: -89653270682861.1875 - accuracy: 0.0000e+00\n",
      "Epoch 66/150\n",
      "352266/352266 [==============================] - 8s 22us/step - loss: -93746179876268.3750 - accuracy: 0.0000e+00\n",
      "Epoch 67/150\n",
      "352266/352266 [==============================] - 6s 17us/step - loss: -97961128642524.5000 - accuracy: 0.0000e+00\n",
      "Epoch 68/150\n",
      "352266/352266 [==============================] - 6s 18us/step - loss: -102302846123840.1875 - accuracy: 0.0000e+00\n",
      "Epoch 69/150\n",
      "352266/352266 [==============================] - 6s 18us/step - loss: -106766850673683.9219 - accuracy: 0.0000e+00\n",
      "Epoch 70/150\n",
      "352266/352266 [==============================] - 6s 18us/step - loss: -111356907948964.7500 - accuracy: 0.0000e+00\n",
      "Epoch 71/150\n",
      "352266/352266 [==============================] - 8s 24us/step - loss: -116078950170056.8438 - accuracy: 0.0000e+00\n",
      "Epoch 72/150\n",
      "352266/352266 [==============================] - 8s 22us/step - loss: -120931354504631.3750 - accuracy: 0.0000e+00\n",
      "Epoch 73/150\n",
      "352266/352266 [==============================] - 7s 21us/step - loss: -125914879900939.4688 - accuracy: 0.0000e+00\n",
      "Epoch 74/150\n",
      "352266/352266 [==============================] - 7s 21us/step - loss: -131034042910109.8281 - accuracy: 0.0000e+00\n",
      "Epoch 75/150\n",
      "352266/352266 [==============================] - 7s 21us/step - loss: -136295109513412.6250 - accuracy: 0.0000e+00\n",
      "Epoch 76/150\n",
      "352266/352266 [==============================] - 7s 21us/step - loss: -141689893579859.2812 - accuracy: 0.0000e+00\n",
      "Epoch 77/150\n",
      "352266/352266 [==============================] - 8s 24us/step - loss: -147225296238504.2500 - accuracy: 0.0000e+00\n",
      "Epoch 78/150\n",
      "352266/352266 [==============================] - 7s 19us/step - loss: -152902507357238.1562 - accuracy: 0.0000e+00\n",
      "Epoch 79/150\n",
      "352266/352266 [==============================] - 9s 25us/step - loss: -158723452602982.4375 - accuracy: 0.0000e+00\n",
      "Epoch 80/150\n",
      "352266/352266 [==============================] - 7s 19us/step - loss: -164691229014728.9688 - accuracy: 0.0000e+00\n",
      "Epoch 81/150\n",
      "352266/352266 [==============================] - 8s 22us/step - loss: -170800957897502.8125 - accuracy: 0.0000e+00\n",
      "Epoch 82/150\n",
      "352266/352266 [==============================] - 7s 21us/step - loss: -177062183209325.1250 - accuracy: 0.0000e+00\n",
      "Epoch 83/150\n",
      "352266/352266 [==============================] - 7s 20us/step - loss: -183474945967042.3125 - accuracy: 0.0000e+00\n",
      "Epoch 84/150\n",
      "352266/352266 [==============================] - 7s 21us/step - loss: -190035816280385.9688 - accuracy: 0.0000e+00\n",
      "Epoch 85/150\n",
      "352266/352266 [==============================] - 8s 22us/step - loss: -196755577887468.9375 - accuracy: 0.0000e+00\n",
      "Epoch 86/150\n",
      "352266/352266 [==============================] - 7s 20us/step - loss: -203632767757389.7188 - accuracy: 0.0000e+00\n",
      "Epoch 87/150\n",
      "352266/352266 [==============================] - 8s 23us/step - loss: -210667501560476.5938 - accuracy: 0.0000e+00\n",
      "Epoch 88/150\n",
      "352266/352266 [==============================] - 8s 22us/step - loss: -217858639305129.2812 - accuracy: 0.0000e+00\n",
      "Epoch 89/150\n",
      "352266/352266 [==============================] - 6s 18us/step - loss: -225212432451519.5625 - accuracy: 0.0000e+00\n",
      "Epoch 90/150\n",
      "352266/352266 [==============================] - 6s 17us/step - loss: -232726358499171.6562 - accuracy: 0.0000e+00\n",
      "Epoch 91/150\n",
      "352266/352266 [==============================] - 6s 16us/step - loss: -240409681078490.5000 - accuracy: 0.0000e+00\n",
      "Epoch 92/150\n",
      "352266/352266 [==============================] - 6s 17us/step - loss: -248257355816337.8125 - accuracy: 0.0000e+00\n",
      "Epoch 93/150\n",
      "352266/352266 [==============================] - 6s 17us/step - loss: -256270461716414.7500 - accuracy: 0.0000e+00\n",
      "Epoch 94/150\n",
      "352266/352266 [==============================] - 6s 16us/step - loss: -264455749189351.3750 - accuracy: 0.0000e+00\n",
      "Epoch 95/150\n",
      "352266/352266 [==============================] - 6s 18us/step - loss: -272819728238168.4375 - accuracy: 0.0000e+00\n",
      "Epoch 96/150\n",
      "352266/352266 [==============================] - 6s 16us/step - loss: -281347122148816.6875 - accuracy: 0.0000e+00\n",
      "Epoch 97/150\n",
      "352266/352266 [==============================] - 6s 16us/step - loss: -290056632434525.5625 - accuracy: 0.0000e+00\n",
      "Epoch 98/150\n",
      "352266/352266 [==============================] - 6s 18us/step - loss: -298939780533115.6250 - accuracy: 0.0000e+00\n",
      "Epoch 99/150\n",
      "352266/352266 [==============================] - 6s 17us/step - loss: -308002618544476.5000 - accuracy: 0.0000e+00\n",
      "Epoch 100/150\n",
      "352266/352266 [==============================] - 8s 22us/step - loss: -317252402171648.8750 - accuracy: 0.0000e+00\n",
      "Epoch 101/150\n",
      "352266/352266 [==============================] - 6s 17us/step - loss: -326679237511069.2500 - accuracy: 0.0000e+00\n",
      "Epoch 102/150\n",
      "352266/352266 [==============================] - 6s 16us/step - loss: -336293779392530.6250 - accuracy: 0.0000e+00\n",
      "Epoch 103/150\n",
      "352266/352266 [==============================] - 6s 17us/step - loss: -346093167414103.9375 - accuracy: 0.0000e+00\n",
      "Epoch 104/150\n",
      "352266/352266 [==============================] - 6s 16us/step - loss: -356079328879587.5625 - accuracy: 0.0000e+00\n",
      "Epoch 105/150\n",
      "352266/352266 [==============================] - 6s 16us/step - loss: -366263991185746.8125 - accuracy: 0.0000e+00\n",
      "Epoch 106/150\n",
      "352266/352266 [==============================] - 6s 17us/step - loss: -376632994164341.6875 - accuracy: 0.0000e+00\n",
      "Epoch 107/150\n",
      "352266/352266 [==============================] - 6s 16us/step - loss: -387191116907742.1875 - accuracy: 0.0000e+00\n",
      "Epoch 108/150\n",
      "352266/352266 [==============================] - 8s 22us/step - loss: -397948318774781.8750 - accuracy: 0.0000e+00\n",
      "Epoch 109/150\n",
      "352266/352266 [==============================] - 6s 17us/step - loss: -408902200503649.0000 - accuracy: 0.0000e+00\n",
      "Epoch 110/150\n",
      "352266/352266 [==============================] - 6s 16us/step - loss: -420048398057303.1250 - accuracy: 0.0000e+00\n",
      "Epoch 111/150\n",
      "352266/352266 [==============================] - 6s 18us/step - loss: -431401985651683.3750 - accuracy: 0.0000e+00\n",
      "Epoch 112/150\n",
      "352266/352266 [==============================] - 6s 16us/step - loss: -442957267178443.1875 - accuracy: 0.0000e+00\n",
      "Epoch 113/150\n",
      "352266/352266 [==============================] - 6s 17us/step - loss: -454719448721258.6875 - accuracy: 0.0000e+00\n",
      "Epoch 114/150\n",
      "352266/352266 [==============================] - 6s 17us/step - loss: -466691421266118.0000 - accuracy: 0.0000e+00\n",
      "Epoch 115/150\n",
      "352266/352266 [==============================] - 6s 17us/step - loss: -478864973441911.0625 - accuracy: 0.0000e+00\n",
      "Epoch 116/150\n",
      "352266/352266 [==============================] - 6s 18us/step - loss: -491239950994989.9375 - accuracy: 0.0000e+00\n",
      "Epoch 117/150\n",
      "352266/352266 [==============================] - 6s 16us/step - loss: -503835682969310.1875 - accuracy: 0.0000e+00\n",
      "Epoch 118/150\n",
      "352266/352266 [==============================] - 6s 17us/step - loss: -516635502309855.3750 - accuracy: 0.0000e+00\n",
      "Epoch 119/150\n",
      "352266/352266 [==============================] - 6s 18us/step - loss: -529653711638748.9375 - accuracy: 0.0000e+00\n",
      "Epoch 120/150\n",
      "352266/352266 [==============================] - 6s 16us/step - loss: -542889631986299.0000 - accuracy: 0.0000e+00\n",
      "Epoch 121/150\n",
      "352266/352266 [==============================] - 6s 17us/step - loss: -556342882088026.4375 - accuracy: 0.0000e+00\n",
      "Epoch 122/150\n",
      "352266/352266 [==============================] - 7s 19us/step - loss: -570018662803164.6250 - accuracy: 0.0000e+00\n",
      "Epoch 123/150\n",
      "352266/352266 [==============================] - 7s 21us/step - loss: -583919708564834.1250 - accuracy: 0.0000e+00\n",
      "Epoch 124/150\n",
      "352266/352266 [==============================] - 6s 18us/step - loss: -598038180304991.6250 - accuracy: 0.0000e+00\n",
      "Epoch 125/150\n",
      "352266/352266 [==============================] - 6s 16us/step - loss: -612393213676537.2500 - accuracy: 0.0000e+00\n",
      "Epoch 126/150\n",
      "352266/352266 [==============================] - 6s 17us/step - loss: -626966239436805.8750 - accuracy: 0.0000e+00\n",
      "Epoch 127/150\n",
      "352266/352266 [==============================] - 7s 20us/step - loss: -641779148662555.2500 - accuracy: 0.0000e+00\n",
      "Epoch 128/150\n"
     ]
    },
    {
     "name": "stdout",
     "output_type": "stream",
     "text": [
      "352266/352266 [==============================] - 7s 20us/step - loss: -656801069147819.6250 - accuracy: 0.0000e+00\n",
      "Epoch 129/150\n",
      "352266/352266 [==============================] - 6s 18us/step - loss: -672060594191915.1250 - accuracy: 0.0000e+00\n",
      "Epoch 130/150\n",
      "352266/352266 [==============================] - 6s 16us/step - loss: -687562292931831.1250 - accuracy: 0.0000e+00\n",
      "Epoch 131/150\n",
      "352266/352266 [==============================] - 6s 16us/step - loss: -703297904759553.5000 - accuracy: 0.0000e+00\n",
      "Epoch 132/150\n",
      "352266/352266 [==============================] - 6s 17us/step - loss: -719269726671821.5000 - accuracy: 0.0000e+00\n",
      "Epoch 133/150\n",
      "352266/352266 [==============================] - 6s 17us/step - loss: -735483012342479.6250 - accuracy: 0.0000e+00\n",
      "Epoch 134/150\n",
      "352266/352266 [==============================] - 8s 22us/step - loss: -751925704401987.5000 - accuracy: 0.0000e+00\n",
      "Epoch 135/150\n",
      "352266/352266 [==============================] - 6s 17us/step - loss: -768617298255190.6250 - accuracy: 0.0000e+00\n",
      "Epoch 136/150\n",
      "352266/352266 [==============================] - 8s 23us/step - loss: -785559728930533.6250 - accuracy: 0.0000e+00\n",
      "Epoch 137/150\n",
      "352266/352266 [==============================] - 7s 20us/step - loss: -802749171255916.8750 - accuracy: 0.0000e+00\n",
      "Epoch 138/150\n",
      "352266/352266 [==============================] - 10s 28us/step - loss: -820180605172987.0000 - accuracy: 0.0000e+00 0s - loss: -819865548883646.7500 - accuracy: 0\n",
      "Epoch 139/150\n",
      "352266/352266 [==============================] - 6s 17us/step - loss: -837874393657629.6250 - accuracy: 0.0000e+00\n",
      "Epoch 140/150\n",
      "352266/352266 [==============================] - 6s 16us/step - loss: -855815626921157.1250 - accuracy: 0.0000e+00\n",
      "Epoch 141/150\n",
      "352266/352266 [==============================] - 6s 18us/step - loss: -874010100776966.3750 - accuracy: 0.0000e+00\n",
      "Epoch 142/150\n",
      "352266/352266 [==============================] - 7s 20us/step - loss: -892436872475877.5000 - accuracy: 0.0000e+00\n",
      "Epoch 143/150\n",
      "352266/352266 [==============================] - 8s 21us/step - loss: -911135959420640.6250 - accuracy: 0.0000e+00\n",
      "Epoch 144/150\n",
      "352266/352266 [==============================] - 6s 16us/step - loss: -930060736146314.0000 - accuracy: 0.0000e+00\n",
      "Epoch 145/150\n",
      "352266/352266 [==============================] - 6s 16us/step - loss: -949250356064981.7500 - accuracy: 0.0000e+00\n",
      "Epoch 146/150\n",
      "352266/352266 [==============================] - 6s 18us/step - loss: -968676160785733.7500 - accuracy: 0.0000e+00\n",
      "Epoch 147/150\n",
      "352266/352266 [==============================] - 8s 23us/step - loss: -988381504070750.0000 - accuracy: 0.0000e+00\n",
      "Epoch 148/150\n",
      "352266/352266 [==============================] - 7s 20us/step - loss: -1008355083951467.7500 - accuracy: 0.0000e+00\n",
      "Epoch 149/150\n",
      "352266/352266 [==============================] - 6s 16us/step - loss: -1028594902517149.2500 - accuracy: 0.0000e+00\n",
      "Epoch 150/150\n",
      "352266/352266 [==============================] - 6s 16us/step - loss: -1049097640836254.7500 - accuracy: 0.0000e+00\n"
     ]
    },
    {
     "data": {
      "text/plain": [
       "<keras.callbacks.callbacks.History at 0x2b323adcd48>"
      ]
     },
     "execution_count": 26,
     "metadata": {},
     "output_type": "execute_result"
    }
   ],
   "source": [
    "model.fit(X, y, epochs=150, batch_size=100)"
   ]
  },
  {
   "cell_type": "code",
   "execution_count": null,
   "metadata": {},
   "outputs": [],
   "source": []
  }
 ],
 "metadata": {
  "kernelspec": {
   "display_name": "Python 3",
   "language": "python",
   "name": "python3"
  },
  "language_info": {
   "codemirror_mode": {
    "name": "ipython",
    "version": 3
   },
   "file_extension": ".py",
   "mimetype": "text/x-python",
   "name": "python",
   "nbconvert_exporter": "python",
   "pygments_lexer": "ipython3",
   "version": "3.7.9"
  }
 },
 "nbformat": 4,
 "nbformat_minor": 4
}
